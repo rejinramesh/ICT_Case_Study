{
 "cells": [
  {
   "cell_type": "markdown",
   "id": "f0e1ef21",
   "metadata": {},
   "source": [
    "### Part A: Data Preprocessing"
   ]
  },
  {
   "cell_type": "code",
   "execution_count": 1,
   "id": "337c2af9",
   "metadata": {},
   "outputs": [],
   "source": [
    "import pandas as pd\n",
    "import numpy as np\n",
    "import matplotlib.pyplot as plt\n",
    "import seaborn as sns"
   ]
  },
  {
   "cell_type": "code",
   "execution_count": 2,
   "id": "5bf1a96f",
   "metadata": {},
   "outputs": [],
   "source": [
    "data=pd.read_csv(\"customer_raw_data_1500.csv\")"
   ]
  },
  {
   "cell_type": "code",
   "execution_count": 3,
   "id": "8b6346ce",
   "metadata": {},
   "outputs": [
    {
     "data": {
      "text/html": [
       "<div>\n",
       "<style scoped>\n",
       "    .dataframe tbody tr th:only-of-type {\n",
       "        vertical-align: middle;\n",
       "    }\n",
       "\n",
       "    .dataframe tbody tr th {\n",
       "        vertical-align: top;\n",
       "    }\n",
       "\n",
       "    .dataframe thead th {\n",
       "        text-align: right;\n",
       "    }\n",
       "</style>\n",
       "<table border=\"1\" class=\"dataframe\">\n",
       "  <thead>\n",
       "    <tr style=\"text-align: right;\">\n",
       "      <th></th>\n",
       "      <th>Customer_ID</th>\n",
       "      <th>Age</th>\n",
       "      <th>Gender</th>\n",
       "      <th>City</th>\n",
       "      <th>Income</th>\n",
       "      <th>Customer_Since</th>\n",
       "      <th>Spending_Score</th>\n",
       "    </tr>\n",
       "  </thead>\n",
       "  <tbody>\n",
       "    <tr>\n",
       "      <th>0</th>\n",
       "      <td>CUST1000</td>\n",
       "      <td>68</td>\n",
       "      <td>Unknown</td>\n",
       "      <td>new york</td>\n",
       "      <td>$93,792</td>\n",
       "      <td>2022-02-16</td>\n",
       "      <td>79.0</td>\n",
       "    </tr>\n",
       "    <tr>\n",
       "      <th>1</th>\n",
       "      <td>CUST1001</td>\n",
       "      <td>43</td>\n",
       "      <td>MALE</td>\n",
       "      <td>Los Angeles</td>\n",
       "      <td>$138,681</td>\n",
       "      <td>23/09/2022</td>\n",
       "      <td>74.0</td>\n",
       "    </tr>\n",
       "    <tr>\n",
       "      <th>2</th>\n",
       "      <td>CUST1002</td>\n",
       "      <td>73</td>\n",
       "      <td>MALE</td>\n",
       "      <td>Huston</td>\n",
       "      <td>$30,858</td>\n",
       "      <td>30/07/2022</td>\n",
       "      <td>32.0</td>\n",
       "    </tr>\n",
       "    <tr>\n",
       "      <th>3</th>\n",
       "      <td>CUST1003</td>\n",
       "      <td>25</td>\n",
       "      <td>FEMALE</td>\n",
       "      <td>new york</td>\n",
       "      <td>$138,103</td>\n",
       "      <td>2022-05-02</td>\n",
       "      <td>36.0</td>\n",
       "    </tr>\n",
       "    <tr>\n",
       "      <th>4</th>\n",
       "      <td>CUST1004</td>\n",
       "      <td>72</td>\n",
       "      <td>FeMale</td>\n",
       "      <td>Unknown</td>\n",
       "      <td>$103,229</td>\n",
       "      <td>2022-08-30</td>\n",
       "      <td>83.0</td>\n",
       "    </tr>\n",
       "  </tbody>\n",
       "</table>\n",
       "</div>"
      ],
      "text/plain": [
       "  Customer_ID  Age   Gender         City    Income Customer_Since  \\\n",
       "0    CUST1000   68  Unknown     new york   $93,792     2022-02-16   \n",
       "1    CUST1001   43     MALE  Los Angeles  $138,681     23/09/2022   \n",
       "2    CUST1002   73     MALE       Huston   $30,858     30/07/2022   \n",
       "3    CUST1003   25   FEMALE     new york  $138,103     2022-05-02   \n",
       "4    CUST1004   72   FeMale      Unknown  $103,229     2022-08-30   \n",
       "\n",
       "   Spending_Score  \n",
       "0            79.0  \n",
       "1            74.0  \n",
       "2            32.0  \n",
       "3            36.0  \n",
       "4            83.0  "
      ]
     },
     "execution_count": 3,
     "metadata": {},
     "output_type": "execute_result"
    }
   ],
   "source": [
    "data.head()"
   ]
  },
  {
   "cell_type": "code",
   "execution_count": 4,
   "id": "8ff1d2b9",
   "metadata": {},
   "outputs": [
    {
     "name": "stdout",
     "output_type": "stream",
     "text": [
      "<class 'pandas.core.frame.DataFrame'>\n",
      "RangeIndex: 1500 entries, 0 to 1499\n",
      "Data columns (total 7 columns):\n",
      " #   Column          Non-Null Count  Dtype  \n",
      "---  ------          --------------  -----  \n",
      " 0   Customer_ID     1500 non-null   object \n",
      " 1   Age             1500 non-null   int64  \n",
      " 2   Gender          1500 non-null   object \n",
      " 3   City            1500 non-null   object \n",
      " 4   Income          1370 non-null   object \n",
      " 5   Customer_Since  1500 non-null   object \n",
      " 6   Spending_Score  1482 non-null   float64\n",
      "dtypes: float64(1), int64(1), object(5)\n",
      "memory usage: 82.2+ KB\n"
     ]
    }
   ],
   "source": [
    "data.info()"
   ]
  },
  {
   "cell_type": "code",
   "execution_count": 5,
   "id": "e042e230",
   "metadata": {},
   "outputs": [
    {
     "data": {
      "text/html": [
       "<div>\n",
       "<style scoped>\n",
       "    .dataframe tbody tr th:only-of-type {\n",
       "        vertical-align: middle;\n",
       "    }\n",
       "\n",
       "    .dataframe tbody tr th {\n",
       "        vertical-align: top;\n",
       "    }\n",
       "\n",
       "    .dataframe thead th {\n",
       "        text-align: right;\n",
       "    }\n",
       "</style>\n",
       "<table border=\"1\" class=\"dataframe\">\n",
       "  <thead>\n",
       "    <tr style=\"text-align: right;\">\n",
       "      <th></th>\n",
       "      <th>Age</th>\n",
       "      <th>Spending_Score</th>\n",
       "    </tr>\n",
       "  </thead>\n",
       "  <tbody>\n",
       "    <tr>\n",
       "      <th>count</th>\n",
       "      <td>1500.000000</td>\n",
       "      <td>1482.000000</td>\n",
       "    </tr>\n",
       "    <tr>\n",
       "      <th>mean</th>\n",
       "      <td>53.431333</td>\n",
       "      <td>49.843455</td>\n",
       "    </tr>\n",
       "    <tr>\n",
       "      <th>std</th>\n",
       "      <td>25.251846</td>\n",
       "      <td>29.282919</td>\n",
       "    </tr>\n",
       "    <tr>\n",
       "      <th>min</th>\n",
       "      <td>-5.000000</td>\n",
       "      <td>1.000000</td>\n",
       "    </tr>\n",
       "    <tr>\n",
       "      <th>25%</th>\n",
       "      <td>34.000000</td>\n",
       "      <td>24.000000</td>\n",
       "    </tr>\n",
       "    <tr>\n",
       "      <th>50%</th>\n",
       "      <td>53.000000</td>\n",
       "      <td>48.000000</td>\n",
       "    </tr>\n",
       "    <tr>\n",
       "      <th>75%</th>\n",
       "      <td>72.000000</td>\n",
       "      <td>76.000000</td>\n",
       "    </tr>\n",
       "    <tr>\n",
       "      <th>max</th>\n",
       "      <td>150.000000</td>\n",
       "      <td>100.000000</td>\n",
       "    </tr>\n",
       "  </tbody>\n",
       "</table>\n",
       "</div>"
      ],
      "text/plain": [
       "               Age  Spending_Score\n",
       "count  1500.000000     1482.000000\n",
       "mean     53.431333       49.843455\n",
       "std      25.251846       29.282919\n",
       "min      -5.000000        1.000000\n",
       "25%      34.000000       24.000000\n",
       "50%      53.000000       48.000000\n",
       "75%      72.000000       76.000000\n",
       "max     150.000000      100.000000"
      ]
     },
     "execution_count": 5,
     "metadata": {},
     "output_type": "execute_result"
    }
   ],
   "source": [
    "data.describe()"
   ]
  },
  {
   "cell_type": "code",
   "execution_count": 6,
   "id": "c4d726df",
   "metadata": {},
   "outputs": [
    {
     "data": {
      "text/plain": [
       "Customer_ID         0\n",
       "Age                 0\n",
       "Gender              0\n",
       "City                0\n",
       "Income            130\n",
       "Customer_Since      0\n",
       "Spending_Score     18\n",
       "dtype: int64"
      ]
     },
     "execution_count": 6,
     "metadata": {},
     "output_type": "execute_result"
    }
   ],
   "source": [
    "data.isnull().sum()"
   ]
  },
  {
   "cell_type": "code",
   "execution_count": 7,
   "id": "9de61005",
   "metadata": {},
   "outputs": [
    {
     "data": {
      "text/plain": [
       "(1500, 7)"
      ]
     },
     "execution_count": 7,
     "metadata": {},
     "output_type": "execute_result"
    }
   ],
   "source": [
    "data.shape"
   ]
  },
  {
   "cell_type": "code",
   "execution_count": 8,
   "id": "a6a7502e",
   "metadata": {},
   "outputs": [
    {
     "data": {
      "text/plain": [
       "array(['Unknown', 'MALE', 'FEMALE', 'FeMale', 'female', 'Other', 'Male'],\n",
       "      dtype=object)"
      ]
     },
     "execution_count": 8,
     "metadata": {},
     "output_type": "execute_result"
    }
   ],
   "source": [
    "data.Gender.unique()"
   ]
  },
  {
   "cell_type": "code",
   "execution_count": 9,
   "id": "eda87dab",
   "metadata": {},
   "outputs": [
    {
     "data": {
      "text/plain": [
       "Customer_ID         0\n",
       "Age                 0\n",
       "Gender              0\n",
       "City                0\n",
       "Income            130\n",
       "Customer_Since      0\n",
       "Spending_Score     18\n",
       "dtype: int64"
      ]
     },
     "execution_count": 9,
     "metadata": {},
     "output_type": "execute_result"
    }
   ],
   "source": [
    "data.isnull().sum()"
   ]
  },
  {
   "cell_type": "markdown",
   "id": "dfbddea4",
   "metadata": {},
   "source": [
    "#### Identify and handle missing values"
   ]
  },
  {
   "cell_type": "code",
   "execution_count": 10,
   "id": "6ad5ab81",
   "metadata": {},
   "outputs": [],
   "source": [
    "data['Income'] = data['Income'].replace('[\\$,]', '', regex=True)\n",
    "data['Income'] = pd.to_numeric(data['Income'], errors='coerce')"
   ]
  },
  {
   "cell_type": "code",
   "execution_count": 11,
   "id": "df5d12aa",
   "metadata": {},
   "outputs": [],
   "source": [
    "data['Income'].fillna(data['Income'].median(), inplace=True)"
   ]
  },
  {
   "cell_type": "code",
   "execution_count": 12,
   "id": "4ad106d4",
   "metadata": {},
   "outputs": [],
   "source": [
    "data['Spending_Score'].fillna(data['Spending_Score'].median(), inplace=True)"
   ]
  },
  {
   "cell_type": "code",
   "execution_count": 13,
   "id": "f6d0d05e",
   "metadata": {},
   "outputs": [
    {
     "data": {
      "text/html": [
       "<div>\n",
       "<style scoped>\n",
       "    .dataframe tbody tr th:only-of-type {\n",
       "        vertical-align: middle;\n",
       "    }\n",
       "\n",
       "    .dataframe tbody tr th {\n",
       "        vertical-align: top;\n",
       "    }\n",
       "\n",
       "    .dataframe thead th {\n",
       "        text-align: right;\n",
       "    }\n",
       "</style>\n",
       "<table border=\"1\" class=\"dataframe\">\n",
       "  <thead>\n",
       "    <tr style=\"text-align: right;\">\n",
       "      <th></th>\n",
       "      <th>Customer_ID</th>\n",
       "      <th>Age</th>\n",
       "      <th>Gender</th>\n",
       "      <th>City</th>\n",
       "      <th>Income</th>\n",
       "      <th>Customer_Since</th>\n",
       "      <th>Spending_Score</th>\n",
       "    </tr>\n",
       "  </thead>\n",
       "  <tbody>\n",
       "    <tr>\n",
       "      <th>0</th>\n",
       "      <td>CUST1000</td>\n",
       "      <td>68</td>\n",
       "      <td>Unknown</td>\n",
       "      <td>new york</td>\n",
       "      <td>93792.0</td>\n",
       "      <td>2022-02-16</td>\n",
       "      <td>79.0</td>\n",
       "    </tr>\n",
       "    <tr>\n",
       "      <th>1</th>\n",
       "      <td>CUST1001</td>\n",
       "      <td>43</td>\n",
       "      <td>MALE</td>\n",
       "      <td>Los Angeles</td>\n",
       "      <td>138681.0</td>\n",
       "      <td>23/09/2022</td>\n",
       "      <td>74.0</td>\n",
       "    </tr>\n",
       "    <tr>\n",
       "      <th>2</th>\n",
       "      <td>CUST1002</td>\n",
       "      <td>73</td>\n",
       "      <td>MALE</td>\n",
       "      <td>Huston</td>\n",
       "      <td>30858.0</td>\n",
       "      <td>30/07/2022</td>\n",
       "      <td>32.0</td>\n",
       "    </tr>\n",
       "    <tr>\n",
       "      <th>3</th>\n",
       "      <td>CUST1003</td>\n",
       "      <td>25</td>\n",
       "      <td>FEMALE</td>\n",
       "      <td>new york</td>\n",
       "      <td>138103.0</td>\n",
       "      <td>2022-05-02</td>\n",
       "      <td>36.0</td>\n",
       "    </tr>\n",
       "    <tr>\n",
       "      <th>4</th>\n",
       "      <td>CUST1004</td>\n",
       "      <td>72</td>\n",
       "      <td>FeMale</td>\n",
       "      <td>Unknown</td>\n",
       "      <td>103229.0</td>\n",
       "      <td>2022-08-30</td>\n",
       "      <td>83.0</td>\n",
       "    </tr>\n",
       "  </tbody>\n",
       "</table>\n",
       "</div>"
      ],
      "text/plain": [
       "  Customer_ID  Age   Gender         City    Income Customer_Since  \\\n",
       "0    CUST1000   68  Unknown     new york   93792.0     2022-02-16   \n",
       "1    CUST1001   43     MALE  Los Angeles  138681.0     23/09/2022   \n",
       "2    CUST1002   73     MALE       Huston   30858.0     30/07/2022   \n",
       "3    CUST1003   25   FEMALE     new york  138103.0     2022-05-02   \n",
       "4    CUST1004   72   FeMale      Unknown  103229.0     2022-08-30   \n",
       "\n",
       "   Spending_Score  \n",
       "0            79.0  \n",
       "1            74.0  \n",
       "2            32.0  \n",
       "3            36.0  \n",
       "4            83.0  "
      ]
     },
     "execution_count": 13,
     "metadata": {},
     "output_type": "execute_result"
    }
   ],
   "source": [
    "data.head()"
   ]
  },
  {
   "cell_type": "code",
   "execution_count": 14,
   "id": "0ab1ff57",
   "metadata": {},
   "outputs": [
    {
     "data": {
      "text/plain": [
       "(1500, 7)"
      ]
     },
     "execution_count": 14,
     "metadata": {},
     "output_type": "execute_result"
    }
   ],
   "source": [
    "data.shape"
   ]
  },
  {
   "cell_type": "code",
   "execution_count": 15,
   "id": "86863c15",
   "metadata": {},
   "outputs": [
    {
     "data": {
      "text/plain": [
       "Customer_ID       0\n",
       "Age               0\n",
       "Gender            0\n",
       "City              0\n",
       "Income            0\n",
       "Customer_Since    0\n",
       "Spending_Score    0\n",
       "dtype: int64"
      ]
     },
     "execution_count": 15,
     "metadata": {},
     "output_type": "execute_result"
    }
   ],
   "source": [
    "data.isnull().sum()"
   ]
  },
  {
   "cell_type": "code",
   "execution_count": 16,
   "id": "82ba389a",
   "metadata": {},
   "outputs": [
    {
     "name": "stdout",
     "output_type": "stream",
     "text": [
      "<class 'pandas.core.frame.DataFrame'>\n",
      "RangeIndex: 1500 entries, 0 to 1499\n",
      "Data columns (total 7 columns):\n",
      " #   Column          Non-Null Count  Dtype  \n",
      "---  ------          --------------  -----  \n",
      " 0   Customer_ID     1500 non-null   object \n",
      " 1   Age             1500 non-null   int64  \n",
      " 2   Gender          1500 non-null   object \n",
      " 3   City            1500 non-null   object \n",
      " 4   Income          1500 non-null   float64\n",
      " 5   Customer_Since  1500 non-null   object \n",
      " 6   Spending_Score  1500 non-null   float64\n",
      "dtypes: float64(2), int64(1), object(4)\n",
      "memory usage: 82.2+ KB\n"
     ]
    }
   ],
   "source": [
    "data.info()"
   ]
  },
  {
   "cell_type": "markdown",
   "id": "a661511a",
   "metadata": {},
   "source": [
    "#### Fix inconsistent data formats"
   ]
  },
  {
   "cell_type": "code",
   "execution_count": 29,
   "id": "53921b98",
   "metadata": {},
   "outputs": [
    {
     "name": "stdout",
     "output_type": "stream",
     "text": [
      "Invalid dates: 0\n"
     ]
    }
   ],
   "source": [
    "data['Customer_Since'] = pd.to_datetime(data['Customer_Since'], dayfirst=True, errors='coerce')\n",
    "print(\"Invalid dates:\", data['Customer_Since'].isnull().sum())"
   ]
  },
  {
   "cell_type": "code",
   "execution_count": 30,
   "id": "63b4aa25",
   "metadata": {},
   "outputs": [
    {
     "data": {
      "text/plain": [
       "(1476, 7)"
      ]
     },
     "execution_count": 30,
     "metadata": {},
     "output_type": "execute_result"
    }
   ],
   "source": [
    "data.shape"
   ]
  },
  {
   "cell_type": "code",
   "execution_count": 19,
   "id": "acf5c142",
   "metadata": {},
   "outputs": [
    {
     "data": {
      "text/html": [
       "<div>\n",
       "<style scoped>\n",
       "    .dataframe tbody tr th:only-of-type {\n",
       "        vertical-align: middle;\n",
       "    }\n",
       "\n",
       "    .dataframe tbody tr th {\n",
       "        vertical-align: top;\n",
       "    }\n",
       "\n",
       "    .dataframe thead th {\n",
       "        text-align: right;\n",
       "    }\n",
       "</style>\n",
       "<table border=\"1\" class=\"dataframe\">\n",
       "  <thead>\n",
       "    <tr style=\"text-align: right;\">\n",
       "      <th></th>\n",
       "      <th>Customer_ID</th>\n",
       "      <th>Age</th>\n",
       "      <th>Gender</th>\n",
       "      <th>City</th>\n",
       "      <th>Income</th>\n",
       "      <th>Customer_Since</th>\n",
       "      <th>Spending_Score</th>\n",
       "    </tr>\n",
       "  </thead>\n",
       "  <tbody>\n",
       "    <tr>\n",
       "      <th>0</th>\n",
       "      <td>CUST1000</td>\n",
       "      <td>68</td>\n",
       "      <td>Unknown</td>\n",
       "      <td>new york</td>\n",
       "      <td>93792.0</td>\n",
       "      <td>2022-02-16</td>\n",
       "      <td>79.0</td>\n",
       "    </tr>\n",
       "    <tr>\n",
       "      <th>1</th>\n",
       "      <td>CUST1001</td>\n",
       "      <td>43</td>\n",
       "      <td>MALE</td>\n",
       "      <td>Los Angeles</td>\n",
       "      <td>138681.0</td>\n",
       "      <td>2022-09-23</td>\n",
       "      <td>74.0</td>\n",
       "    </tr>\n",
       "    <tr>\n",
       "      <th>2</th>\n",
       "      <td>CUST1002</td>\n",
       "      <td>73</td>\n",
       "      <td>MALE</td>\n",
       "      <td>Huston</td>\n",
       "      <td>30858.0</td>\n",
       "      <td>2022-07-30</td>\n",
       "      <td>32.0</td>\n",
       "    </tr>\n",
       "    <tr>\n",
       "      <th>3</th>\n",
       "      <td>CUST1003</td>\n",
       "      <td>25</td>\n",
       "      <td>FEMALE</td>\n",
       "      <td>new york</td>\n",
       "      <td>138103.0</td>\n",
       "      <td>2022-05-02</td>\n",
       "      <td>36.0</td>\n",
       "    </tr>\n",
       "    <tr>\n",
       "      <th>4</th>\n",
       "      <td>CUST1004</td>\n",
       "      <td>72</td>\n",
       "      <td>FeMale</td>\n",
       "      <td>Unknown</td>\n",
       "      <td>103229.0</td>\n",
       "      <td>2022-08-30</td>\n",
       "      <td>83.0</td>\n",
       "    </tr>\n",
       "  </tbody>\n",
       "</table>\n",
       "</div>"
      ],
      "text/plain": [
       "  Customer_ID  Age   Gender         City    Income Customer_Since  \\\n",
       "0    CUST1000   68  Unknown     new york   93792.0     2022-02-16   \n",
       "1    CUST1001   43     MALE  Los Angeles  138681.0     2022-09-23   \n",
       "2    CUST1002   73     MALE       Huston   30858.0     2022-07-30   \n",
       "3    CUST1003   25   FEMALE     new york  138103.0     2022-05-02   \n",
       "4    CUST1004   72   FeMale      Unknown  103229.0     2022-08-30   \n",
       "\n",
       "   Spending_Score  \n",
       "0            79.0  \n",
       "1            74.0  \n",
       "2            32.0  \n",
       "3            36.0  \n",
       "4            83.0  "
      ]
     },
     "execution_count": 19,
     "metadata": {},
     "output_type": "execute_result"
    }
   ],
   "source": [
    "data.head()"
   ]
  },
  {
   "cell_type": "markdown",
   "id": "bc9adfc2",
   "metadata": {},
   "source": [
    "#### Handle categorical data"
   ]
  },
  {
   "cell_type": "code",
   "execution_count": 20,
   "id": "654fcbe1",
   "metadata": {},
   "outputs": [],
   "source": [
    "data['Gender'] = data['Gender'].str.title()\n",
    "data['City'] = data['City'].str.title()\n",
    "\n",
    "gender_mode = data.loc[data['Gender'] != 'Unknown', 'Gender'].mode()[0]\n",
    "data['Gender'] = data['Gender'].replace('Unknown', gender_mode)\n",
    "\n",
    "city_mode = data.loc[data['City'] != 'Unknown', 'City'].mode()[0]\n",
    "data['City'] = data['City'].replace('Unknown', city_mode)"
   ]
  },
  {
   "cell_type": "code",
   "execution_count": 21,
   "id": "4a6ff3c4",
   "metadata": {},
   "outputs": [
    {
     "data": {
      "text/plain": [
       "array([ 68,  43,  73,  25,  72,  83,  33,  38,  80,  81,  64,  82,  16,\n",
       "        29,  79,  41,  65,  88,  27,  31,  84,  36,  22,  62,  60,  61,\n",
       "        24,  42,  19,  -5,  56,  58,  20,  39,  51,  17,  77,  23,  37,\n",
       "        74,  59,  66,  40,  57,  54,  69,  63,  34,  89,  18,  70,  50,\n",
       "        21,  26,  78,  71,  53,  30,  55,  28,  67,  85,  46, 150,  32,\n",
       "        47,  48,  87,  49,  86,  52,  35,  45,  75,  44,  76], dtype=int64)"
      ]
     },
     "execution_count": 21,
     "metadata": {},
     "output_type": "execute_result"
    }
   ],
   "source": [
    "data.Age.unique()"
   ]
  },
  {
   "cell_type": "code",
   "execution_count": 22,
   "id": "31a31c15",
   "metadata": {},
   "outputs": [],
   "source": [
    "data = data[data['Age'] != -5]"
   ]
  },
  {
   "cell_type": "code",
   "execution_count": 23,
   "id": "40baecaf",
   "metadata": {},
   "outputs": [
    {
     "data": {
      "text/plain": [
       "(1476, 7)"
      ]
     },
     "execution_count": 23,
     "metadata": {},
     "output_type": "execute_result"
    }
   ],
   "source": [
    "data.shape"
   ]
  },
  {
   "cell_type": "markdown",
   "id": "8f834d64",
   "metadata": {},
   "source": [
    "####  Remove duplicates and obvious data error"
   ]
  },
  {
   "cell_type": "code",
   "execution_count": 24,
   "id": "e082b0bb",
   "metadata": {},
   "outputs": [
    {
     "name": "stdout",
     "output_type": "stream",
     "text": [
      "Duplicate entries: 0\n"
     ]
    }
   ],
   "source": [
    "duplicates = data.duplicated()\n",
    "print(f\"Duplicate entries: {duplicates.sum()}\")"
   ]
  },
  {
   "cell_type": "code",
   "execution_count": 25,
   "id": "52ccd4ea",
   "metadata": {},
   "outputs": [],
   "source": [
    "data = data[~duplicates]\n",
    "data = data[data['Income'] > 0]"
   ]
  },
  {
   "cell_type": "code",
   "execution_count": 26,
   "id": "5d4f0a43",
   "metadata": {},
   "outputs": [
    {
     "data": {
      "text/html": [
       "<div>\n",
       "<style scoped>\n",
       "    .dataframe tbody tr th:only-of-type {\n",
       "        vertical-align: middle;\n",
       "    }\n",
       "\n",
       "    .dataframe tbody tr th {\n",
       "        vertical-align: top;\n",
       "    }\n",
       "\n",
       "    .dataframe thead th {\n",
       "        text-align: right;\n",
       "    }\n",
       "</style>\n",
       "<table border=\"1\" class=\"dataframe\">\n",
       "  <thead>\n",
       "    <tr style=\"text-align: right;\">\n",
       "      <th></th>\n",
       "      <th>Customer_ID</th>\n",
       "      <th>Age</th>\n",
       "      <th>Gender</th>\n",
       "      <th>City</th>\n",
       "      <th>Income</th>\n",
       "      <th>Customer_Since</th>\n",
       "      <th>Spending_Score</th>\n",
       "    </tr>\n",
       "  </thead>\n",
       "  <tbody>\n",
       "    <tr>\n",
       "      <th>0</th>\n",
       "      <td>CUST1000</td>\n",
       "      <td>68</td>\n",
       "      <td>Female</td>\n",
       "      <td>New York</td>\n",
       "      <td>93792.0</td>\n",
       "      <td>2022-02-16</td>\n",
       "      <td>79.0</td>\n",
       "    </tr>\n",
       "    <tr>\n",
       "      <th>1</th>\n",
       "      <td>CUST1001</td>\n",
       "      <td>43</td>\n",
       "      <td>Male</td>\n",
       "      <td>Los Angeles</td>\n",
       "      <td>138681.0</td>\n",
       "      <td>2022-09-23</td>\n",
       "      <td>74.0</td>\n",
       "    </tr>\n",
       "    <tr>\n",
       "      <th>2</th>\n",
       "      <td>CUST1002</td>\n",
       "      <td>73</td>\n",
       "      <td>Male</td>\n",
       "      <td>Huston</td>\n",
       "      <td>30858.0</td>\n",
       "      <td>2022-07-30</td>\n",
       "      <td>32.0</td>\n",
       "    </tr>\n",
       "    <tr>\n",
       "      <th>3</th>\n",
       "      <td>CUST1003</td>\n",
       "      <td>25</td>\n",
       "      <td>Female</td>\n",
       "      <td>New York</td>\n",
       "      <td>138103.0</td>\n",
       "      <td>2022-05-02</td>\n",
       "      <td>36.0</td>\n",
       "    </tr>\n",
       "    <tr>\n",
       "      <th>4</th>\n",
       "      <td>CUST1004</td>\n",
       "      <td>72</td>\n",
       "      <td>Female</td>\n",
       "      <td>Los Angeles</td>\n",
       "      <td>103229.0</td>\n",
       "      <td>2022-08-30</td>\n",
       "      <td>83.0</td>\n",
       "    </tr>\n",
       "  </tbody>\n",
       "</table>\n",
       "</div>"
      ],
      "text/plain": [
       "  Customer_ID  Age  Gender         City    Income Customer_Since  \\\n",
       "0    CUST1000   68  Female     New York   93792.0     2022-02-16   \n",
       "1    CUST1001   43    Male  Los Angeles  138681.0     2022-09-23   \n",
       "2    CUST1002   73    Male       Huston   30858.0     2022-07-30   \n",
       "3    CUST1003   25  Female     New York  138103.0     2022-05-02   \n",
       "4    CUST1004   72  Female  Los Angeles  103229.0     2022-08-30   \n",
       "\n",
       "   Spending_Score  \n",
       "0            79.0  \n",
       "1            74.0  \n",
       "2            32.0  \n",
       "3            36.0  \n",
       "4            83.0  "
      ]
     },
     "execution_count": 26,
     "metadata": {},
     "output_type": "execute_result"
    }
   ],
   "source": [
    "data.head()"
   ]
  },
  {
   "cell_type": "code",
   "execution_count": 27,
   "id": "ed6ec5a7",
   "metadata": {
    "scrolled": true
   },
   "outputs": [
    {
     "data": {
      "text/plain": [
       "(1476, 7)"
      ]
     },
     "execution_count": 27,
     "metadata": {},
     "output_type": "execute_result"
    }
   ],
   "source": [
    "data.shape"
   ]
  },
  {
   "cell_type": "markdown",
   "id": "6136947e",
   "metadata": {},
   "source": [
    "### Part B: Exploratory Data Analysis"
   ]
  },
  {
   "cell_type": "markdown",
   "id": "814ef9ce",
   "metadata": {},
   "source": [
    "#### Summarize the dataset"
   ]
  },
  {
   "cell_type": "code",
   "execution_count": 28,
   "id": "1d7608e5",
   "metadata": {},
   "outputs": [
    {
     "name": "stdout",
     "output_type": "stream",
     "text": [
      "Age Summary:\n",
      "Mean: 54.38143631436314\n",
      "Median: 53.0\n",
      "Mode: 25\n",
      "\n",
      "Income Summary:\n",
      "Mean: 84988.47425474254\n",
      "Median: 84013.0\n",
      "Mode: 84013.0\n"
     ]
    }
   ],
   "source": [
    "# Summary statistics for Age\n",
    "print(\"Age Summary:\")\n",
    "print(\"Mean:\", data['Age'].mean())\n",
    "print(\"Median:\", data['Age'].median())\n",
    "print(\"Mode:\", data['Age'].mode()[0])\n",
    "\n",
    "# Summary statistics for Income\n",
    "print(\"\\nIncome Summary:\")\n",
    "print(\"Mean:\", data['Income'].mean())\n",
    "print(\"Median:\", data['Income'].median())\n",
    "print(\"Mode:\", data['Income'].mode()[0])"
   ]
  },
  {
   "cell_type": "code",
   "execution_count": 31,
   "id": "7957aeb0",
   "metadata": {},
   "outputs": [
    {
     "name": "stdout",
     "output_type": "stream",
     "text": [
      "\n",
      "Customer Distribution by City:\n",
      "Los Angeles    639\n",
      "New York       421\n",
      "Huston         214\n",
      "Houston        202\n",
      "Name: City, dtype: int64\n",
      "\n",
      "Customer Distribution by Gender:\n",
      "Female    825\n",
      "Male      427\n",
      "Other     224\n",
      "Name: Gender, dtype: int64\n"
     ]
    }
   ],
   "source": [
    "# Customers by City\n",
    "print(\"\\nCustomer Distribution by City:\")\n",
    "print(data['City'].value_counts())\n",
    "\n",
    "# Customers by Gender\n",
    "print(\"\\nCustomer Distribution by Gender:\")\n",
    "print(data['Gender'].value_counts())"
   ]
  },
  {
   "cell_type": "markdown",
   "id": "e1121be9",
   "metadata": {},
   "source": [
    "#### Saving the dataset to new file"
   ]
  },
  {
   "cell_type": "code",
   "execution_count": 32,
   "id": "fd431f66",
   "metadata": {},
   "outputs": [],
   "source": [
    "data.to_excel(\"cleaned_customer_data.xlsx\", index=False)"
   ]
  },
  {
   "cell_type": "code",
   "execution_count": null,
   "id": "cff6fc03",
   "metadata": {},
   "outputs": [],
   "source": []
  }
 ],
 "metadata": {
  "kernelspec": {
   "display_name": "Python 3 (ipykernel)",
   "language": "python",
   "name": "python3"
  },
  "language_info": {
   "codemirror_mode": {
    "name": "ipython",
    "version": 3
   },
   "file_extension": ".py",
   "mimetype": "text/x-python",
   "name": "python",
   "nbconvert_exporter": "python",
   "pygments_lexer": "ipython3",
   "version": "3.9.12"
  }
 },
 "nbformat": 4,
 "nbformat_minor": 5
}
