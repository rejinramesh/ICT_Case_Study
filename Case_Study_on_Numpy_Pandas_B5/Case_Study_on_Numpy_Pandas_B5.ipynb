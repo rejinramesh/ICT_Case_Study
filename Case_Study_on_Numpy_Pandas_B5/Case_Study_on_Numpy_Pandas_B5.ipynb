{
 "cells": [
  {
   "cell_type": "code",
   "execution_count": 1,
   "id": "5771e1d9",
   "metadata": {},
   "outputs": [],
   "source": [
    "import numpy as np\n",
    "import pandas as pd"
   ]
  },
  {
   "cell_type": "markdown",
   "id": "44eecd83",
   "metadata": {},
   "source": [
    "### Numpy problems"
   ]
  },
  {
   "cell_type": "markdown",
   "id": "08721e44",
   "metadata": {},
   "source": [
    "#### 1. Using NumPy, create a 1D array of 20 random integers between 10 and 50. Then, fi nd the mean and standard deviation of the array."
   ]
  },
  {
   "cell_type": "code",
   "execution_count": 2,
   "id": "9fda6ec0",
   "metadata": {},
   "outputs": [],
   "source": [
    "A=np.random.randint(10,50,20,dtype=int)"
   ]
  },
  {
   "cell_type": "code",
   "execution_count": 3,
   "id": "88d6cccd",
   "metadata": {},
   "outputs": [
    {
     "name": "stdout",
     "output_type": "stream",
     "text": [
      "The random array is [29 46 44 48 15 38 20 24 45 26 15 31 25 33 37 19 16 37 49 45]\n"
     ]
    }
   ],
   "source": [
    "print(f'The random array is {A}')"
   ]
  },
  {
   "cell_type": "code",
   "execution_count": 4,
   "id": "47b8e954",
   "metadata": {},
   "outputs": [
    {
     "name": "stdout",
     "output_type": "stream",
     "text": [
      "The standard deviation of A is 11.436345570154831\n",
      "The mean of A is 32.1\n"
     ]
    }
   ],
   "source": [
    "stdev_A=np.std(A)\n",
    "mean_A=np.mean(A)\n",
    "print(f'The standard deviation of A is {stdev_A}')\n",
    "print(f'The mean of A is {mean_A}')"
   ]
  },
  {
   "cell_type": "markdown",
   "id": "e7e09318",
   "metadata": {},
   "source": [
    "#### 2 .Create a 2D NumPy array of shape (6, 5) fi lled with random fl oats between 0 and 1. Reshape this array to have shape (5, 6) and print both the original and reshaped arrays."
   ]
  },
  {
   "cell_type": "code",
   "execution_count": 5,
   "id": "235e3e78",
   "metadata": {},
   "outputs": [
    {
     "name": "stdout",
     "output_type": "stream",
     "text": [
      "The array is [[0.3963519  0.74376628 0.61475442 0.31340992 0.91475297]\n",
      " [0.31134646 0.76820506 0.01307104 0.98704408 0.06601411]\n",
      " [0.73226876 0.60081083 0.59013006 0.81693968 0.38415416]\n",
      " [0.11616337 0.7006665  0.36893485 0.15282007 0.16559288]\n",
      " [0.18823023 0.2987137  0.64349433 0.19880192 0.68586902]\n",
      " [0.69822635 0.33672714 0.05027765 0.59868257 0.78267548]]\n"
     ]
    }
   ],
   "source": [
    "B=np.random.rand(6,5)\n",
    "print(f'The array is {B}')"
   ]
  },
  {
   "cell_type": "code",
   "execution_count": 6,
   "id": "2cd1c903",
   "metadata": {},
   "outputs": [
    {
     "name": "stdout",
     "output_type": "stream",
     "text": [
      "Reshaped array is [[0.3963519  0.74376628 0.61475442 0.31340992 0.91475297 0.31134646]\n",
      " [0.76820506 0.01307104 0.98704408 0.06601411 0.73226876 0.60081083]\n",
      " [0.59013006 0.81693968 0.38415416 0.11616337 0.7006665  0.36893485]\n",
      " [0.15282007 0.16559288 0.18823023 0.2987137  0.64349433 0.19880192]\n",
      " [0.68586902 0.69822635 0.33672714 0.05027765 0.59868257 0.78267548]]\n"
     ]
    }
   ],
   "source": [
    "B_reshaped=B.reshape(5,6)\n",
    "print(f'Reshaped array is {B_reshaped}')"
   ]
  },
  {
   "cell_type": "markdown",
   "id": "fd54dbcd",
   "metadata": {},
   "source": [
    "#### 3.Create a 2D array of shape (5, 5) fi lled with numbers from 1 to 25. Extract a subarray that includes rows 2 to 4 and columns 1 to 3."
   ]
  },
  {
   "cell_type": "code",
   "execution_count": 7,
   "id": "8340294a",
   "metadata": {},
   "outputs": [
    {
     "name": "stdout",
     "output_type": "stream",
     "text": [
      "The 2D array is [[ 1  2  3  4  5]\n",
      " [ 6  7  8  9 10]\n",
      " [11 12 13 14 15]\n",
      " [16 17 18 19 20]\n",
      " [21 22 23 24 25]]\n"
     ]
    }
   ],
   "source": [
    "C=np.arange(1,26).reshape(5,5)\n",
    "print(f'The 2D array is {C}')"
   ]
  },
  {
   "cell_type": "code",
   "execution_count": 8,
   "id": "02a59e6d",
   "metadata": {},
   "outputs": [
    {
     "name": "stdout",
     "output_type": "stream",
     "text": [
      "The extracted subarray is [[ 6  7  8]\n",
      " [11 12 13]\n",
      " [16 17 18]]\n"
     ]
    }
   ],
   "source": [
    "C_extracted=C[1:4,0:3]\n",
    "print(f'The extracted subarray is {C_extracted}')"
   ]
  },
  {
   "cell_type": "markdown",
   "id": "4d1935bc",
   "metadata": {},
   "source": [
    "#### 4. Generate two 1D arrays A and B, each containing 10 random integers between 1 and 100. Add the arrays together, then multiply the result by 2. Show the results of each operation."
   ]
  },
  {
   "cell_type": "code",
   "execution_count": 9,
   "id": "988caf01",
   "metadata": {},
   "outputs": [
    {
     "name": "stdout",
     "output_type": "stream",
     "text": [
      "The first array is [76 71 56 96 22 43 43 74 87 66]\n",
      "The second array is [87 40  4 87  1 30 13 32 68 53]\n"
     ]
    }
   ],
   "source": [
    "A=np.random.randint(1,100,10)\n",
    "B=np.random.randint(1,100,10)\n",
    "print(f'The first array is {A}')\n",
    "print(f'The second array is {B}')      "
   ]
  },
  {
   "cell_type": "code",
   "execution_count": 10,
   "id": "8b7bc215",
   "metadata": {},
   "outputs": [
    {
     "name": "stdout",
     "output_type": "stream",
     "text": [
      "The sum of arrays A and B is [163 111  60 183  23  73  56 106 155 119]\n"
     ]
    }
   ],
   "source": [
    "sum_of_arrays = A+B\n",
    "print(f'The sum of arrays A and B is {sum_of_arrays}')"
   ]
  },
  {
   "cell_type": "code",
   "execution_count": 11,
   "id": "480431bb",
   "metadata": {},
   "outputs": [
    {
     "name": "stdout",
     "output_type": "stream",
     "text": [
      "The sum of arrays when multiplied by 2 is [326 222 120 366  46 146 112 212 310 238]\n"
     ]
    }
   ],
   "source": [
    "multiplied_result=sum_of_arrays*2\n",
    "print(f'The sum of arrays when multiplied by 2 is {multiplied_result}')"
   ]
  },
  {
   "cell_type": "markdown",
   "id": "03bafcc7",
   "metadata": {},
   "source": [
    "#### 5. Create a 2D array A of shape (3, 4) fi lled with random integers between 1 and 10. Create a 1D array B of shape (4,) with values [1, 2, 3, 4]. Add the 1D array to the 2D array and explain how broadcasting works in this case."
   ]
  },
  {
   "cell_type": "code",
   "execution_count": 45,
   "id": "a74e951d",
   "metadata": {},
   "outputs": [
    {
     "name": "stdout",
     "output_type": "stream",
     "text": [
      "The 2D array is [[7 7 9 6]\n",
      " [2 4 3 3]\n",
      " [6 6 5 5]]\n",
      "The 1D array is [1 2 3 4]\n"
     ]
    }
   ],
   "source": [
    "A=np.random.randint(1,10,(3,4))\n",
    "B=np.arange(1,5)\n",
    "print(f'The 2D array is {A}')\n",
    "print(f'The 1D array is {B}')"
   ]
  },
  {
   "cell_type": "code",
   "execution_count": 46,
   "id": "e91057ac",
   "metadata": {},
   "outputs": [
    {
     "name": "stdout",
     "output_type": "stream",
     "text": [
      "The broadcasted array is [[ 8  9 12 10]\n",
      " [ 3  6  6  7]\n",
      " [ 7  8  8  9]]\n"
     ]
    }
   ],
   "source": [
    "broadcasted_array=A+B\n",
    "print(f'The broadcasted array is {broadcasted_array}')"
   ]
  },
  {
   "cell_type": "code",
   "execution_count": 47,
   "id": "d2daf7b0",
   "metadata": {},
   "outputs": [],
   "source": [
    "# Broadcasting simplifies mathematical operations on arrays with different shapes.\n",
    "# It enables numpy to efficiently apply operations element-wise without explicitly copying or reshaping data."
   ]
  },
  {
   "cell_type": "markdown",
   "id": "4d8d9974",
   "metadata": {},
   "source": [
    "#### 6. Create a 3x3 matrix of random integers between 1 and 100. Find the row with the maximum sum, and then the maximum value in that row."
   ]
  },
  {
   "cell_type": "code",
   "execution_count": 15,
   "id": "1a03bdc7",
   "metadata": {},
   "outputs": [
    {
     "name": "stdout",
     "output_type": "stream",
     "text": [
      "The 3x3 matrix is [[21 90 45]\n",
      " [40 40 35]\n",
      " [64 90 16]]\n"
     ]
    }
   ],
   "source": [
    "A=np.random.randint(1,101,size=(3,3))\n",
    "print(f'The 3x3 matrix is {A}')"
   ]
  },
  {
   "cell_type": "code",
   "execution_count": 16,
   "id": "ee4c3999",
   "metadata": {},
   "outputs": [],
   "source": [
    "max_sum_rows=np.sum(A,axis=1)\n",
    "max_value_row_index=np.argmax(max_sum_rows)\n",
    "max_value_in_maxsum_row=np.max(A[max_value_row_index])"
   ]
  },
  {
   "cell_type": "code",
   "execution_count": 17,
   "id": "158fc01a",
   "metadata": {},
   "outputs": [
    {
     "name": "stdout",
     "output_type": "stream",
     "text": [
      "The sum of rows are [156 115 170]\n",
      "The max value in the maximum sum row which is row 2 is 90\n"
     ]
    }
   ],
   "source": [
    "print(f'The sum of rows are {max_sum_rows}')\n",
    "print(f'The max value in the maximum sum row which is row {max_value_row_index} is {max_value_in_maxsum_row}')"
   ]
  },
  {
   "cell_type": "markdown",
   "id": "0aeeef03",
   "metadata": {},
   "source": [
    "#### 7. Create two 2D arrays A and B, both of shape (2, 2), fi lled with random integers. Compute the matrix multiplication of A and B using np.dot()."
   ]
  },
  {
   "cell_type": "code",
   "execution_count": 18,
   "id": "844ef7f4",
   "metadata": {},
   "outputs": [],
   "source": [
    "A=np.random.randint(1,50,size=(2,2))\n",
    "B=np.random.randint(1,50,size=(2,2))"
   ]
  },
  {
   "cell_type": "code",
   "execution_count": 19,
   "id": "c07192fe",
   "metadata": {},
   "outputs": [
    {
     "name": "stdout",
     "output_type": "stream",
     "text": [
      "The first 2D array is [[26 12]\n",
      " [ 6 38]]\n",
      "The second 2D array is [[23  6]\n",
      " [36 18]]\n"
     ]
    }
   ],
   "source": [
    "print(f'The first 2D array is {A}')\n",
    "print(f'The second 2D array is {B}')"
   ]
  },
  {
   "cell_type": "code",
   "execution_count": 20,
   "id": "04d709f5",
   "metadata": {},
   "outputs": [
    {
     "name": "stdout",
     "output_type": "stream",
     "text": [
      "The dot product of A and B is [[1030  372]\n",
      " [1506  720]]\n"
     ]
    }
   ],
   "source": [
    "dot_product_A_B=np.dot(A,B)\n",
    "print(f'The dot product of A and B is {dot_product_A_B}')"
   ]
  },
  {
   "cell_type": "markdown",
   "id": "9ac07988",
   "metadata": {},
   "source": [
    "#### 8. Create an array of shape (6, 6) with random integers between 1 and 50. Using boolean indexing, extract all values greater than 25."
   ]
  },
  {
   "cell_type": "code",
   "execution_count": 21,
   "id": "5d71c485",
   "metadata": {},
   "outputs": [
    {
     "name": "stdout",
     "output_type": "stream",
     "text": [
      "The random array is [[40 40 43 34 38 10]\n",
      " [33  3 28 39  7 28]\n",
      " [47 42 31  4 32 35]\n",
      " [ 1 27 42 41 17 49]\n",
      " [19  7 41 25 33  9]\n",
      " [44 24  7 33 16 43]]\n"
     ]
    }
   ],
   "source": [
    "A=np.random.randint(1,50,size=(6,6))\n",
    "print(f'The random array is {A}')"
   ]
  },
  {
   "cell_type": "code",
   "execution_count": 22,
   "id": "978be99a",
   "metadata": {},
   "outputs": [
    {
     "name": "stdout",
     "output_type": "stream",
     "text": [
      "The array with numbers greater than 25 is [40 40 43 34 38 33 28 39 28 47 42 31 32 35 27 42 41 49 41 33 44 33 43]\n"
     ]
    }
   ],
   "source": [
    "A_greater_than_25 =A[A>25]\n",
    "print(f'The array with numbers greater than 25 is {A_greater_than_25}')"
   ]
  },
  {
   "cell_type": "markdown",
   "id": "d42c85c8",
   "metadata": {},
   "source": [
    "#### 9. Create a 5x5 array of random fl oats between 0 and 1. Calculate the median and variance along the columns and rows separately."
   ]
  },
  {
   "cell_type": "code",
   "execution_count": 23,
   "id": "e88e2b2e",
   "metadata": {},
   "outputs": [
    {
     "name": "stdout",
     "output_type": "stream",
     "text": [
      "The random array is [[0.16799358 0.00297533 0.46103618 0.81377938 0.65447306]\n",
      " [0.68082321 0.29871551 0.41745814 0.01071805 0.79565975]\n",
      " [0.2355427  0.31038522 0.56562527 0.88109367 0.89013877]\n",
      " [0.45336785 0.67136625 0.3224936  0.15336935 0.30420795]\n",
      " [0.24365577 0.6214032  0.48029182 0.78740083 0.00905872]]\n"
     ]
    }
   ],
   "source": [
    "A=np.random.rand(5,5)\n",
    "print(f'The random array is {A}')"
   ]
  },
  {
   "cell_type": "code",
   "execution_count": 24,
   "id": "781ab23f",
   "metadata": {},
   "outputs": [
    {
     "name": "stdout",
     "output_type": "stream",
     "text": [
      "The mean of rows are [0.42005151 0.44067493 0.57655713 0.380961   0.42836207]\n",
      "The mean of columns are [0.35627662 0.3809691  0.449381   0.52927225 0.53070765]\n",
      "The variance of rows are [0.08982812 0.07784797 0.07566676 0.03013708 0.07576042]\n",
      "The variance of rows are [0.03549357 0.05935322 0.00634471 0.13631089 0.10762559]\n"
     ]
    }
   ],
   "source": [
    "A_row_mean=np.mean(A,axis=1)\n",
    "A_column_mean=np.mean(A,axis=0)\n",
    "A_row_variance=np.var(A,axis=1)\n",
    "A_column_variance=np.var(A,axis=0)\n",
    "\n",
    "print(f'The mean of rows are {A_row_mean}')\n",
    "print(f'The mean of columns are {A_column_mean}')\n",
    "print(f'The variance of rows are {A_row_variance}')\n",
    "print(f'The variance of rows are {A_column_variance}')"
   ]
  },
  {
   "cell_type": "markdown",
   "id": "4f5ba6be",
   "metadata": {},
   "source": [
    "#### 10. Generate a 3x3 matrix of random integers between 1 and 10. Perform the following element-wise operations: subtract 2 from each element, square each element, and compute the reciprocal of each element."
   ]
  },
  {
   "cell_type": "code",
   "execution_count": 25,
   "id": "9a33c539",
   "metadata": {},
   "outputs": [
    {
     "name": "stdout",
     "output_type": "stream",
     "text": [
      "The random array is [[1 7 9]\n",
      " [5 7 9]\n",
      " [9 1 8]]\n"
     ]
    }
   ],
   "source": [
    "A=np.random.randint(1,10,size=(3,3))\n",
    "print(f'The random array is {A}')"
   ]
  },
  {
   "cell_type": "code",
   "execution_count": 140,
   "id": "1d4428ec",
   "metadata": {
    "scrolled": true
   },
   "outputs": [
    {
     "name": "stdout",
     "output_type": "stream",
     "text": [
      "The array subtracted by 2 is [[5 5 7 4]\n",
      " [0 2 1 1]\n",
      " [4 4 3 3]]\n",
      "The square of array is [[ 5  5 11  4]\n",
      " [ 0  6  1  1]\n",
      " [ 4  4  7  7]]\n",
      "The reciprocal of array is [[0.14285714 0.14285714 0.11111111 0.16666667]\n",
      " [0.5        0.25       0.33333333 0.33333333]\n",
      " [0.16666667 0.16666667 0.2        0.2       ]]\n"
     ]
    }
   ],
   "source": [
    "sub_A=A-2\n",
    "square_A=A^2\n",
    "reciprocal_A=np.reciprocal(A.astype(float))\n",
    "\n",
    "print(f'The array subtracted by 2 is {sub_A}')\n",
    "print(f'The square of array is {square_A}')\n",
    "print(f'The reciprocal of array is {reciprocal_A}')\n"
   ]
  },
  {
   "cell_type": "markdown",
   "id": "cfe3353a",
   "metadata": {},
   "source": [
    "# ---------------------------------------------------------------------------------------------------------------"
   ]
  },
  {
   "cell_type": "markdown",
   "id": "aaa77721",
   "metadata": {},
   "source": [
    "### Pandas Problems"
   ]
  },
  {
   "cell_type": "markdown",
   "id": "bfcbdc24",
   "metadata": {},
   "source": [
    "#### 1. Basic Exploration Load the dataset into a Pandas DataFrame. Display:\n",
    "○ The first 10 rows\n",
    "○ The total number of rows and columns\n",
    "○ Summary statistics for numerical columns"
   ]
  },
  {
   "cell_type": "code",
   "execution_count": 169,
   "id": "e59c972e",
   "metadata": {},
   "outputs": [],
   "source": [
    "df=pd.read_csv(\"auto-mpg.csv\")"
   ]
  },
  {
   "cell_type": "code",
   "execution_count": 170,
   "id": "7596f628",
   "metadata": {},
   "outputs": [
    {
     "data": {
      "text/html": [
       "<div>\n",
       "<style scoped>\n",
       "    .dataframe tbody tr th:only-of-type {\n",
       "        vertical-align: middle;\n",
       "    }\n",
       "\n",
       "    .dataframe tbody tr th {\n",
       "        vertical-align: top;\n",
       "    }\n",
       "\n",
       "    .dataframe thead th {\n",
       "        text-align: right;\n",
       "    }\n",
       "</style>\n",
       "<table border=\"1\" class=\"dataframe\">\n",
       "  <thead>\n",
       "    <tr style=\"text-align: right;\">\n",
       "      <th></th>\n",
       "      <th>mpg</th>\n",
       "      <th>cylinders</th>\n",
       "      <th>displacement</th>\n",
       "      <th>horsepower</th>\n",
       "      <th>weight</th>\n",
       "      <th>acceleration</th>\n",
       "      <th>model year</th>\n",
       "      <th>origin</th>\n",
       "      <th>car name</th>\n",
       "    </tr>\n",
       "  </thead>\n",
       "  <tbody>\n",
       "    <tr>\n",
       "      <th>0</th>\n",
       "      <td>18.0</td>\n",
       "      <td>8</td>\n",
       "      <td>307.0</td>\n",
       "      <td>130</td>\n",
       "      <td>3504</td>\n",
       "      <td>12.0</td>\n",
       "      <td>70</td>\n",
       "      <td>1</td>\n",
       "      <td>chevrolet chevelle malibu</td>\n",
       "    </tr>\n",
       "    <tr>\n",
       "      <th>1</th>\n",
       "      <td>15.0</td>\n",
       "      <td>8</td>\n",
       "      <td>350.0</td>\n",
       "      <td>165</td>\n",
       "      <td>3693</td>\n",
       "      <td>11.5</td>\n",
       "      <td>70</td>\n",
       "      <td>1</td>\n",
       "      <td>buick skylark 320</td>\n",
       "    </tr>\n",
       "    <tr>\n",
       "      <th>2</th>\n",
       "      <td>18.0</td>\n",
       "      <td>8</td>\n",
       "      <td>318.0</td>\n",
       "      <td>150</td>\n",
       "      <td>3436</td>\n",
       "      <td>11.0</td>\n",
       "      <td>70</td>\n",
       "      <td>1</td>\n",
       "      <td>plymouth satellite</td>\n",
       "    </tr>\n",
       "    <tr>\n",
       "      <th>3</th>\n",
       "      <td>16.0</td>\n",
       "      <td>8</td>\n",
       "      <td>304.0</td>\n",
       "      <td>150</td>\n",
       "      <td>3433</td>\n",
       "      <td>12.0</td>\n",
       "      <td>70</td>\n",
       "      <td>1</td>\n",
       "      <td>amc rebel sst</td>\n",
       "    </tr>\n",
       "    <tr>\n",
       "      <th>4</th>\n",
       "      <td>17.0</td>\n",
       "      <td>8</td>\n",
       "      <td>302.0</td>\n",
       "      <td>140</td>\n",
       "      <td>3449</td>\n",
       "      <td>10.5</td>\n",
       "      <td>70</td>\n",
       "      <td>1</td>\n",
       "      <td>ford torino</td>\n",
       "    </tr>\n",
       "    <tr>\n",
       "      <th>5</th>\n",
       "      <td>15.0</td>\n",
       "      <td>8</td>\n",
       "      <td>429.0</td>\n",
       "      <td>198</td>\n",
       "      <td>4341</td>\n",
       "      <td>10.0</td>\n",
       "      <td>70</td>\n",
       "      <td>1</td>\n",
       "      <td>ford galaxie 500</td>\n",
       "    </tr>\n",
       "    <tr>\n",
       "      <th>6</th>\n",
       "      <td>14.0</td>\n",
       "      <td>8</td>\n",
       "      <td>454.0</td>\n",
       "      <td>220</td>\n",
       "      <td>4354</td>\n",
       "      <td>9.0</td>\n",
       "      <td>70</td>\n",
       "      <td>1</td>\n",
       "      <td>chevrolet impala</td>\n",
       "    </tr>\n",
       "    <tr>\n",
       "      <th>7</th>\n",
       "      <td>14.0</td>\n",
       "      <td>8</td>\n",
       "      <td>440.0</td>\n",
       "      <td>215</td>\n",
       "      <td>4312</td>\n",
       "      <td>8.5</td>\n",
       "      <td>70</td>\n",
       "      <td>1</td>\n",
       "      <td>plymouth fury iii</td>\n",
       "    </tr>\n",
       "    <tr>\n",
       "      <th>8</th>\n",
       "      <td>14.0</td>\n",
       "      <td>8</td>\n",
       "      <td>455.0</td>\n",
       "      <td>225</td>\n",
       "      <td>4425</td>\n",
       "      <td>10.0</td>\n",
       "      <td>70</td>\n",
       "      <td>1</td>\n",
       "      <td>pontiac catalina</td>\n",
       "    </tr>\n",
       "    <tr>\n",
       "      <th>9</th>\n",
       "      <td>15.0</td>\n",
       "      <td>8</td>\n",
       "      <td>390.0</td>\n",
       "      <td>190</td>\n",
       "      <td>3850</td>\n",
       "      <td>8.5</td>\n",
       "      <td>70</td>\n",
       "      <td>1</td>\n",
       "      <td>amc ambassador dpl</td>\n",
       "    </tr>\n",
       "  </tbody>\n",
       "</table>\n",
       "</div>"
      ],
      "text/plain": [
       "    mpg  cylinders  displacement horsepower  weight  acceleration  model year  \\\n",
       "0  18.0          8         307.0        130    3504          12.0          70   \n",
       "1  15.0          8         350.0        165    3693          11.5          70   \n",
       "2  18.0          8         318.0        150    3436          11.0          70   \n",
       "3  16.0          8         304.0        150    3433          12.0          70   \n",
       "4  17.0          8         302.0        140    3449          10.5          70   \n",
       "5  15.0          8         429.0        198    4341          10.0          70   \n",
       "6  14.0          8         454.0        220    4354           9.0          70   \n",
       "7  14.0          8         440.0        215    4312           8.5          70   \n",
       "8  14.0          8         455.0        225    4425          10.0          70   \n",
       "9  15.0          8         390.0        190    3850           8.5          70   \n",
       "\n",
       "   origin                   car name  \n",
       "0       1  chevrolet chevelle malibu  \n",
       "1       1          buick skylark 320  \n",
       "2       1         plymouth satellite  \n",
       "3       1              amc rebel sst  \n",
       "4       1                ford torino  \n",
       "5       1           ford galaxie 500  \n",
       "6       1           chevrolet impala  \n",
       "7       1          plymouth fury iii  \n",
       "8       1           pontiac catalina  \n",
       "9       1         amc ambassador dpl  "
      ]
     },
     "execution_count": 170,
     "metadata": {},
     "output_type": "execute_result"
    }
   ],
   "source": [
    "# The first 10 rows\n",
    "df.head(10)"
   ]
  },
  {
   "cell_type": "code",
   "execution_count": 171,
   "id": "369df3ea",
   "metadata": {},
   "outputs": [
    {
     "name": "stdout",
     "output_type": "stream",
     "text": [
      "The number of rows is 398\n",
      "The number of columns is 9\n"
     ]
    }
   ],
   "source": [
    "df.shape\n",
    "print(f'The number of rows is {df.shape[0]}')\n",
    "print(f'The number of columns is {df.shape[1]}')"
   ]
  },
  {
   "cell_type": "code",
   "execution_count": 172,
   "id": "dfb397b8",
   "metadata": {},
   "outputs": [
    {
     "name": "stdout",
     "output_type": "stream",
     "text": [
      "Summary statistics for numerical columns is: \n"
     ]
    },
    {
     "data": {
      "text/html": [
       "<div>\n",
       "<style scoped>\n",
       "    .dataframe tbody tr th:only-of-type {\n",
       "        vertical-align: middle;\n",
       "    }\n",
       "\n",
       "    .dataframe tbody tr th {\n",
       "        vertical-align: top;\n",
       "    }\n",
       "\n",
       "    .dataframe thead th {\n",
       "        text-align: right;\n",
       "    }\n",
       "</style>\n",
       "<table border=\"1\" class=\"dataframe\">\n",
       "  <thead>\n",
       "    <tr style=\"text-align: right;\">\n",
       "      <th></th>\n",
       "      <th>mpg</th>\n",
       "      <th>cylinders</th>\n",
       "      <th>displacement</th>\n",
       "      <th>weight</th>\n",
       "      <th>acceleration</th>\n",
       "      <th>model year</th>\n",
       "      <th>origin</th>\n",
       "    </tr>\n",
       "  </thead>\n",
       "  <tbody>\n",
       "    <tr>\n",
       "      <th>count</th>\n",
       "      <td>398.000000</td>\n",
       "      <td>398.000000</td>\n",
       "      <td>398.000000</td>\n",
       "      <td>398.000000</td>\n",
       "      <td>398.000000</td>\n",
       "      <td>398.000000</td>\n",
       "      <td>398.000000</td>\n",
       "    </tr>\n",
       "    <tr>\n",
       "      <th>mean</th>\n",
       "      <td>23.514573</td>\n",
       "      <td>5.454774</td>\n",
       "      <td>193.425879</td>\n",
       "      <td>2970.424623</td>\n",
       "      <td>15.568090</td>\n",
       "      <td>76.010050</td>\n",
       "      <td>1.572864</td>\n",
       "    </tr>\n",
       "    <tr>\n",
       "      <th>std</th>\n",
       "      <td>7.815984</td>\n",
       "      <td>1.701004</td>\n",
       "      <td>104.269838</td>\n",
       "      <td>846.841774</td>\n",
       "      <td>2.757689</td>\n",
       "      <td>3.697627</td>\n",
       "      <td>0.802055</td>\n",
       "    </tr>\n",
       "    <tr>\n",
       "      <th>min</th>\n",
       "      <td>9.000000</td>\n",
       "      <td>3.000000</td>\n",
       "      <td>68.000000</td>\n",
       "      <td>1613.000000</td>\n",
       "      <td>8.000000</td>\n",
       "      <td>70.000000</td>\n",
       "      <td>1.000000</td>\n",
       "    </tr>\n",
       "    <tr>\n",
       "      <th>25%</th>\n",
       "      <td>17.500000</td>\n",
       "      <td>4.000000</td>\n",
       "      <td>104.250000</td>\n",
       "      <td>2223.750000</td>\n",
       "      <td>13.825000</td>\n",
       "      <td>73.000000</td>\n",
       "      <td>1.000000</td>\n",
       "    </tr>\n",
       "    <tr>\n",
       "      <th>50%</th>\n",
       "      <td>23.000000</td>\n",
       "      <td>4.000000</td>\n",
       "      <td>148.500000</td>\n",
       "      <td>2803.500000</td>\n",
       "      <td>15.500000</td>\n",
       "      <td>76.000000</td>\n",
       "      <td>1.000000</td>\n",
       "    </tr>\n",
       "    <tr>\n",
       "      <th>75%</th>\n",
       "      <td>29.000000</td>\n",
       "      <td>8.000000</td>\n",
       "      <td>262.000000</td>\n",
       "      <td>3608.000000</td>\n",
       "      <td>17.175000</td>\n",
       "      <td>79.000000</td>\n",
       "      <td>2.000000</td>\n",
       "    </tr>\n",
       "    <tr>\n",
       "      <th>max</th>\n",
       "      <td>46.600000</td>\n",
       "      <td>8.000000</td>\n",
       "      <td>455.000000</td>\n",
       "      <td>5140.000000</td>\n",
       "      <td>24.800000</td>\n",
       "      <td>82.000000</td>\n",
       "      <td>3.000000</td>\n",
       "    </tr>\n",
       "  </tbody>\n",
       "</table>\n",
       "</div>"
      ],
      "text/plain": [
       "              mpg   cylinders  displacement       weight  acceleration  \\\n",
       "count  398.000000  398.000000    398.000000   398.000000    398.000000   \n",
       "mean    23.514573    5.454774    193.425879  2970.424623     15.568090   \n",
       "std      7.815984    1.701004    104.269838   846.841774      2.757689   \n",
       "min      9.000000    3.000000     68.000000  1613.000000      8.000000   \n",
       "25%     17.500000    4.000000    104.250000  2223.750000     13.825000   \n",
       "50%     23.000000    4.000000    148.500000  2803.500000     15.500000   \n",
       "75%     29.000000    8.000000    262.000000  3608.000000     17.175000   \n",
       "max     46.600000    8.000000    455.000000  5140.000000     24.800000   \n",
       "\n",
       "       model year      origin  \n",
       "count  398.000000  398.000000  \n",
       "mean    76.010050    1.572864  \n",
       "std      3.697627    0.802055  \n",
       "min     70.000000    1.000000  \n",
       "25%     73.000000    1.000000  \n",
       "50%     76.000000    1.000000  \n",
       "75%     79.000000    2.000000  \n",
       "max     82.000000    3.000000  "
      ]
     },
     "execution_count": 172,
     "metadata": {},
     "output_type": "execute_result"
    }
   ],
   "source": [
    "print(f\"Summary statistics for numerical columns is: \")\n",
    "df.describe()"
   ]
  },
  {
   "cell_type": "markdown",
   "id": "1151148a",
   "metadata": {},
   "source": [
    "#### 2. Filtering and Indexing Find all cars manufactured in 1975 with a weight less than 3000. Return the DataFrame with selected columns: car_name, weight, and mpg."
   ]
  },
  {
   "cell_type": "code",
   "execution_count": 173,
   "id": "02ebba6c",
   "metadata": {},
   "outputs": [
    {
     "name": "stdout",
     "output_type": "stream",
     "text": [
      "Empty DataFrame\n",
      "Columns: [car name, weight, mpg]\n",
      "Index: []\n"
     ]
    }
   ],
   "source": [
    "filtered_df=df[(df[\"model year\"]==1975) & (df[\"weight\"]<3000)][[\"car name\",\"weight\",\"mpg\"]]\n",
    "print(filtered_df)"
   ]
  },
  {
   "cell_type": "markdown",
   "id": "9087f0c8",
   "metadata": {},
   "source": [
    "#### 3. Handling Missing Data Identify if there are any missing values in the dataset. Replace missing values in the horsepower column with the column's median."
   ]
  },
  {
   "cell_type": "code",
   "execution_count": 174,
   "id": "54a18652",
   "metadata": {},
   "outputs": [
    {
     "name": "stdout",
     "output_type": "stream",
     "text": [
      "<class 'pandas.core.frame.DataFrame'>\n",
      "RangeIndex: 398 entries, 0 to 397\n",
      "Data columns (total 9 columns):\n",
      " #   Column        Non-Null Count  Dtype  \n",
      "---  ------        --------------  -----  \n",
      " 0   mpg           398 non-null    float64\n",
      " 1   cylinders     398 non-null    int64  \n",
      " 2   displacement  398 non-null    float64\n",
      " 3   horsepower    398 non-null    object \n",
      " 4   weight        398 non-null    int64  \n",
      " 5   acceleration  398 non-null    float64\n",
      " 6   model year    398 non-null    int64  \n",
      " 7   origin        398 non-null    int64  \n",
      " 8   car name      398 non-null    object \n",
      "dtypes: float64(3), int64(4), object(2)\n",
      "memory usage: 28.1+ KB\n"
     ]
    }
   ],
   "source": [
    "df.info()"
   ]
  },
  {
   "cell_type": "code",
   "execution_count": 175,
   "id": "b1f9ea00",
   "metadata": {},
   "outputs": [
    {
     "data": {
      "text/plain": [
       "array(['130', '165', '150', '140', '198', '220', '215', '225', '190',\n",
       "       '170', '160', '95', '97', '85', '88', '46', '87', '90', '113',\n",
       "       '200', '210', '193', '?', '100', '105', '175', '153', '180', '110',\n",
       "       '72', '86', '70', '76', '65', '69', '60', '80', '54', '208', '155',\n",
       "       '112', '92', '145', '137', '158', '167', '94', '107', '230', '49',\n",
       "       '75', '91', '122', '67', '83', '78', '52', '61', '93', '148',\n",
       "       '129', '96', '71', '98', '115', '53', '81', '79', '120', '152',\n",
       "       '102', '108', '68', '58', '149', '89', '63', '48', '66', '139',\n",
       "       '103', '125', '133', '138', '135', '142', '77', '62', '132', '84',\n",
       "       '64', '74', '116', '82'], dtype=object)"
      ]
     },
     "execution_count": 175,
     "metadata": {},
     "output_type": "execute_result"
    }
   ],
   "source": [
    "df['horsepower'].unique()"
   ]
  },
  {
   "cell_type": "code",
   "execution_count": 176,
   "id": "6a50b0a9",
   "metadata": {},
   "outputs": [
    {
     "name": "stdout",
     "output_type": "stream",
     "text": [
      "93.5\n"
     ]
    }
   ],
   "source": [
    "hp=df[(df['horsepower']!='?')]['horsepower'].astype(int).median()\n",
    "print(hp)"
   ]
  },
  {
   "cell_type": "code",
   "execution_count": 177,
   "id": "8db6cf1e",
   "metadata": {},
   "outputs": [
    {
     "data": {
      "text/plain": [
       "array(['130', '165', '150', '140', '198', '220', '215', '225', '190',\n",
       "       '170', '160', '95', '97', '85', '88', '46', '87', '90', '113',\n",
       "       '200', '210', '193', '?', '100', '105', '175', '153', '180', '110',\n",
       "       '72', '86', '70', '76', '65', '69', '60', '80', '54', '208', '155',\n",
       "       '112', '92', '145', '137', '158', '167', '94', '107', '230', '49',\n",
       "       '75', '91', '122', '67', '83', '78', '52', '61', '93', '148',\n",
       "       '129', '96', '71', '98', '115', '53', '81', '79', '120', '152',\n",
       "       '102', '108', '68', '58', '149', '89', '63', '48', '66', '139',\n",
       "       '103', '125', '133', '138', '135', '142', '77', '62', '132', '84',\n",
       "       '64', '74', '116', '82'], dtype=object)"
      ]
     },
     "execution_count": 177,
     "metadata": {},
     "output_type": "execute_result"
    }
   ],
   "source": [
    "df['horsepower'].unique()"
   ]
  },
  {
   "cell_type": "code",
   "execution_count": 178,
   "id": "3ced0db3",
   "metadata": {
    "scrolled": true
   },
   "outputs": [],
   "source": [
    "hps=df['horsepower'].values\n",
    "hps[hps=='?']=hp"
   ]
  },
  {
   "cell_type": "code",
   "execution_count": 179,
   "id": "30e2a782",
   "metadata": {},
   "outputs": [],
   "source": [
    "df['horsepower']=hps.astype(int)"
   ]
  },
  {
   "cell_type": "code",
   "execution_count": 180,
   "id": "bbb9dc9b",
   "metadata": {},
   "outputs": [],
   "source": [
    "# The non numeric values in \"horsepower\" has been replaced with median"
   ]
  },
  {
   "cell_type": "code",
   "execution_count": 181,
   "id": "3d92c0c1",
   "metadata": {},
   "outputs": [
    {
     "data": {
      "text/plain": [
       "array([130, 165, 150, 140, 198, 220, 215, 225, 190, 170, 160,  95,  97,\n",
       "        85,  88,  46,  87,  90, 113, 200, 210, 193,  93, 100, 105, 175,\n",
       "       153, 180, 110,  72,  86,  70,  76,  65,  69,  60,  80,  54, 208,\n",
       "       155, 112,  92, 145, 137, 158, 167,  94, 107, 230,  49,  75,  91,\n",
       "       122,  67,  83,  78,  52,  61, 148, 129,  96,  71,  98, 115,  53,\n",
       "        81,  79, 120, 152, 102, 108,  68,  58, 149,  89,  63,  48,  66,\n",
       "       139, 103, 125, 133, 138, 135, 142,  77,  62, 132,  84,  64,  74,\n",
       "       116,  82])"
      ]
     },
     "execution_count": 181,
     "metadata": {},
     "output_type": "execute_result"
    }
   ],
   "source": [
    "df['horsepower'].unique()"
   ]
  },
  {
   "cell_type": "markdown",
   "id": "7726174d",
   "metadata": {},
   "source": [
    "#### 4. Data Transformation Add a new column power_to_weight_ratio, calculated as horsepower / weight."
   ]
  },
  {
   "cell_type": "code",
   "execution_count": 182,
   "id": "6327546f",
   "metadata": {},
   "outputs": [],
   "source": [
    "df[\"power_to_weight_ratio\"]=df[\"horsepower\"]/df[\"weight\"]"
   ]
  },
  {
   "cell_type": "code",
   "execution_count": 183,
   "id": "c4974d0a",
   "metadata": {},
   "outputs": [
    {
     "data": {
      "text/html": [
       "<div>\n",
       "<style scoped>\n",
       "    .dataframe tbody tr th:only-of-type {\n",
       "        vertical-align: middle;\n",
       "    }\n",
       "\n",
       "    .dataframe tbody tr th {\n",
       "        vertical-align: top;\n",
       "    }\n",
       "\n",
       "    .dataframe thead th {\n",
       "        text-align: right;\n",
       "    }\n",
       "</style>\n",
       "<table border=\"1\" class=\"dataframe\">\n",
       "  <thead>\n",
       "    <tr style=\"text-align: right;\">\n",
       "      <th></th>\n",
       "      <th>mpg</th>\n",
       "      <th>cylinders</th>\n",
       "      <th>displacement</th>\n",
       "      <th>horsepower</th>\n",
       "      <th>weight</th>\n",
       "      <th>acceleration</th>\n",
       "      <th>model year</th>\n",
       "      <th>origin</th>\n",
       "      <th>car name</th>\n",
       "      <th>power_to_weight_ratio</th>\n",
       "    </tr>\n",
       "  </thead>\n",
       "  <tbody>\n",
       "    <tr>\n",
       "      <th>0</th>\n",
       "      <td>18.0</td>\n",
       "      <td>8</td>\n",
       "      <td>307.0</td>\n",
       "      <td>130</td>\n",
       "      <td>3504</td>\n",
       "      <td>12.0</td>\n",
       "      <td>70</td>\n",
       "      <td>1</td>\n",
       "      <td>chevrolet chevelle malibu</td>\n",
       "      <td>0.037100</td>\n",
       "    </tr>\n",
       "    <tr>\n",
       "      <th>1</th>\n",
       "      <td>15.0</td>\n",
       "      <td>8</td>\n",
       "      <td>350.0</td>\n",
       "      <td>165</td>\n",
       "      <td>3693</td>\n",
       "      <td>11.5</td>\n",
       "      <td>70</td>\n",
       "      <td>1</td>\n",
       "      <td>buick skylark 320</td>\n",
       "      <td>0.044679</td>\n",
       "    </tr>\n",
       "    <tr>\n",
       "      <th>2</th>\n",
       "      <td>18.0</td>\n",
       "      <td>8</td>\n",
       "      <td>318.0</td>\n",
       "      <td>150</td>\n",
       "      <td>3436</td>\n",
       "      <td>11.0</td>\n",
       "      <td>70</td>\n",
       "      <td>1</td>\n",
       "      <td>plymouth satellite</td>\n",
       "      <td>0.043655</td>\n",
       "    </tr>\n",
       "    <tr>\n",
       "      <th>3</th>\n",
       "      <td>16.0</td>\n",
       "      <td>8</td>\n",
       "      <td>304.0</td>\n",
       "      <td>150</td>\n",
       "      <td>3433</td>\n",
       "      <td>12.0</td>\n",
       "      <td>70</td>\n",
       "      <td>1</td>\n",
       "      <td>amc rebel sst</td>\n",
       "      <td>0.043694</td>\n",
       "    </tr>\n",
       "    <tr>\n",
       "      <th>4</th>\n",
       "      <td>17.0</td>\n",
       "      <td>8</td>\n",
       "      <td>302.0</td>\n",
       "      <td>140</td>\n",
       "      <td>3449</td>\n",
       "      <td>10.5</td>\n",
       "      <td>70</td>\n",
       "      <td>1</td>\n",
       "      <td>ford torino</td>\n",
       "      <td>0.040591</td>\n",
       "    </tr>\n",
       "  </tbody>\n",
       "</table>\n",
       "</div>"
      ],
      "text/plain": [
       "    mpg  cylinders  displacement  horsepower  weight  acceleration  \\\n",
       "0  18.0          8         307.0         130    3504          12.0   \n",
       "1  15.0          8         350.0         165    3693          11.5   \n",
       "2  18.0          8         318.0         150    3436          11.0   \n",
       "3  16.0          8         304.0         150    3433          12.0   \n",
       "4  17.0          8         302.0         140    3449          10.5   \n",
       "\n",
       "   model year  origin                   car name  power_to_weight_ratio  \n",
       "0          70       1  chevrolet chevelle malibu               0.037100  \n",
       "1          70       1          buick skylark 320               0.044679  \n",
       "2          70       1         plymouth satellite               0.043655  \n",
       "3          70       1              amc rebel sst               0.043694  \n",
       "4          70       1                ford torino               0.040591  "
      ]
     },
     "execution_count": 183,
     "metadata": {},
     "output_type": "execute_result"
    }
   ],
   "source": [
    "df.head()"
   ]
  },
  {
   "cell_type": "markdown",
   "id": "8ff503e9",
   "metadata": {},
   "source": [
    "#### 5. Group By Group the cars by origin and calculate the mean mpg for each group."
   ]
  },
  {
   "cell_type": "code",
   "execution_count": 184,
   "id": "58b3e732",
   "metadata": {},
   "outputs": [],
   "source": [
    "df_grouped=df.groupby(by=\"origin\")"
   ]
  },
  {
   "cell_type": "code",
   "execution_count": 185,
   "id": "ca2f7d4c",
   "metadata": {},
   "outputs": [
    {
     "data": {
      "text/html": [
       "<div>\n",
       "<style scoped>\n",
       "    .dataframe tbody tr th:only-of-type {\n",
       "        vertical-align: middle;\n",
       "    }\n",
       "\n",
       "    .dataframe tbody tr th {\n",
       "        vertical-align: top;\n",
       "    }\n",
       "\n",
       "    .dataframe thead th {\n",
       "        text-align: right;\n",
       "    }\n",
       "</style>\n",
       "<table border=\"1\" class=\"dataframe\">\n",
       "  <thead>\n",
       "    <tr style=\"text-align: right;\">\n",
       "      <th></th>\n",
       "      <th>mpg</th>\n",
       "      <th>cylinders</th>\n",
       "      <th>displacement</th>\n",
       "      <th>horsepower</th>\n",
       "      <th>weight</th>\n",
       "      <th>acceleration</th>\n",
       "      <th>model year</th>\n",
       "      <th>origin</th>\n",
       "      <th>car name</th>\n",
       "      <th>power_to_weight_ratio</th>\n",
       "    </tr>\n",
       "  </thead>\n",
       "  <tbody>\n",
       "    <tr>\n",
       "      <th>0</th>\n",
       "      <td>18.0</td>\n",
       "      <td>8</td>\n",
       "      <td>307.0</td>\n",
       "      <td>130</td>\n",
       "      <td>3504</td>\n",
       "      <td>12.0</td>\n",
       "      <td>70</td>\n",
       "      <td>1</td>\n",
       "      <td>chevrolet chevelle malibu</td>\n",
       "      <td>0.037100</td>\n",
       "    </tr>\n",
       "    <tr>\n",
       "      <th>1</th>\n",
       "      <td>15.0</td>\n",
       "      <td>8</td>\n",
       "      <td>350.0</td>\n",
       "      <td>165</td>\n",
       "      <td>3693</td>\n",
       "      <td>11.5</td>\n",
       "      <td>70</td>\n",
       "      <td>1</td>\n",
       "      <td>buick skylark 320</td>\n",
       "      <td>0.044679</td>\n",
       "    </tr>\n",
       "    <tr>\n",
       "      <th>2</th>\n",
       "      <td>18.0</td>\n",
       "      <td>8</td>\n",
       "      <td>318.0</td>\n",
       "      <td>150</td>\n",
       "      <td>3436</td>\n",
       "      <td>11.0</td>\n",
       "      <td>70</td>\n",
       "      <td>1</td>\n",
       "      <td>plymouth satellite</td>\n",
       "      <td>0.043655</td>\n",
       "    </tr>\n",
       "    <tr>\n",
       "      <th>3</th>\n",
       "      <td>16.0</td>\n",
       "      <td>8</td>\n",
       "      <td>304.0</td>\n",
       "      <td>150</td>\n",
       "      <td>3433</td>\n",
       "      <td>12.0</td>\n",
       "      <td>70</td>\n",
       "      <td>1</td>\n",
       "      <td>amc rebel sst</td>\n",
       "      <td>0.043694</td>\n",
       "    </tr>\n",
       "    <tr>\n",
       "      <th>4</th>\n",
       "      <td>17.0</td>\n",
       "      <td>8</td>\n",
       "      <td>302.0</td>\n",
       "      <td>140</td>\n",
       "      <td>3449</td>\n",
       "      <td>10.5</td>\n",
       "      <td>70</td>\n",
       "      <td>1</td>\n",
       "      <td>ford torino</td>\n",
       "      <td>0.040591</td>\n",
       "    </tr>\n",
       "    <tr>\n",
       "      <th>14</th>\n",
       "      <td>24.0</td>\n",
       "      <td>4</td>\n",
       "      <td>113.0</td>\n",
       "      <td>95</td>\n",
       "      <td>2372</td>\n",
       "      <td>15.0</td>\n",
       "      <td>70</td>\n",
       "      <td>3</td>\n",
       "      <td>toyota corona mark ii</td>\n",
       "      <td>0.040051</td>\n",
       "    </tr>\n",
       "    <tr>\n",
       "      <th>18</th>\n",
       "      <td>27.0</td>\n",
       "      <td>4</td>\n",
       "      <td>97.0</td>\n",
       "      <td>88</td>\n",
       "      <td>2130</td>\n",
       "      <td>14.5</td>\n",
       "      <td>70</td>\n",
       "      <td>3</td>\n",
       "      <td>datsun pl510</td>\n",
       "      <td>0.041315</td>\n",
       "    </tr>\n",
       "    <tr>\n",
       "      <th>19</th>\n",
       "      <td>26.0</td>\n",
       "      <td>4</td>\n",
       "      <td>97.0</td>\n",
       "      <td>46</td>\n",
       "      <td>1835</td>\n",
       "      <td>20.5</td>\n",
       "      <td>70</td>\n",
       "      <td>2</td>\n",
       "      <td>volkswagen 1131 deluxe sedan</td>\n",
       "      <td>0.025068</td>\n",
       "    </tr>\n",
       "    <tr>\n",
       "      <th>20</th>\n",
       "      <td>25.0</td>\n",
       "      <td>4</td>\n",
       "      <td>110.0</td>\n",
       "      <td>87</td>\n",
       "      <td>2672</td>\n",
       "      <td>17.5</td>\n",
       "      <td>70</td>\n",
       "      <td>2</td>\n",
       "      <td>peugeot 504</td>\n",
       "      <td>0.032560</td>\n",
       "    </tr>\n",
       "    <tr>\n",
       "      <th>21</th>\n",
       "      <td>24.0</td>\n",
       "      <td>4</td>\n",
       "      <td>107.0</td>\n",
       "      <td>90</td>\n",
       "      <td>2430</td>\n",
       "      <td>14.5</td>\n",
       "      <td>70</td>\n",
       "      <td>2</td>\n",
       "      <td>audi 100 ls</td>\n",
       "      <td>0.037037</td>\n",
       "    </tr>\n",
       "    <tr>\n",
       "      <th>22</th>\n",
       "      <td>25.0</td>\n",
       "      <td>4</td>\n",
       "      <td>104.0</td>\n",
       "      <td>95</td>\n",
       "      <td>2375</td>\n",
       "      <td>17.5</td>\n",
       "      <td>70</td>\n",
       "      <td>2</td>\n",
       "      <td>saab 99e</td>\n",
       "      <td>0.040000</td>\n",
       "    </tr>\n",
       "    <tr>\n",
       "      <th>23</th>\n",
       "      <td>26.0</td>\n",
       "      <td>4</td>\n",
       "      <td>121.0</td>\n",
       "      <td>113</td>\n",
       "      <td>2234</td>\n",
       "      <td>12.5</td>\n",
       "      <td>70</td>\n",
       "      <td>2</td>\n",
       "      <td>bmw 2002</td>\n",
       "      <td>0.050582</td>\n",
       "    </tr>\n",
       "    <tr>\n",
       "      <th>29</th>\n",
       "      <td>27.0</td>\n",
       "      <td>4</td>\n",
       "      <td>97.0</td>\n",
       "      <td>88</td>\n",
       "      <td>2130</td>\n",
       "      <td>14.5</td>\n",
       "      <td>71</td>\n",
       "      <td>3</td>\n",
       "      <td>datsun pl510</td>\n",
       "      <td>0.041315</td>\n",
       "    </tr>\n",
       "    <tr>\n",
       "      <th>31</th>\n",
       "      <td>25.0</td>\n",
       "      <td>4</td>\n",
       "      <td>113.0</td>\n",
       "      <td>95</td>\n",
       "      <td>2228</td>\n",
       "      <td>14.0</td>\n",
       "      <td>71</td>\n",
       "      <td>3</td>\n",
       "      <td>toyota corona</td>\n",
       "      <td>0.042639</td>\n",
       "    </tr>\n",
       "    <tr>\n",
       "      <th>53</th>\n",
       "      <td>31.0</td>\n",
       "      <td>4</td>\n",
       "      <td>71.0</td>\n",
       "      <td>65</td>\n",
       "      <td>1773</td>\n",
       "      <td>19.0</td>\n",
       "      <td>71</td>\n",
       "      <td>3</td>\n",
       "      <td>toyota corolla 1200</td>\n",
       "      <td>0.036661</td>\n",
       "    </tr>\n",
       "  </tbody>\n",
       "</table>\n",
       "</div>"
      ],
      "text/plain": [
       "     mpg  cylinders  displacement  horsepower  weight  acceleration  \\\n",
       "0   18.0          8         307.0         130    3504          12.0   \n",
       "1   15.0          8         350.0         165    3693          11.5   \n",
       "2   18.0          8         318.0         150    3436          11.0   \n",
       "3   16.0          8         304.0         150    3433          12.0   \n",
       "4   17.0          8         302.0         140    3449          10.5   \n",
       "14  24.0          4         113.0          95    2372          15.0   \n",
       "18  27.0          4          97.0          88    2130          14.5   \n",
       "19  26.0          4          97.0          46    1835          20.5   \n",
       "20  25.0          4         110.0          87    2672          17.5   \n",
       "21  24.0          4         107.0          90    2430          14.5   \n",
       "22  25.0          4         104.0          95    2375          17.5   \n",
       "23  26.0          4         121.0         113    2234          12.5   \n",
       "29  27.0          4          97.0          88    2130          14.5   \n",
       "31  25.0          4         113.0          95    2228          14.0   \n",
       "53  31.0          4          71.0          65    1773          19.0   \n",
       "\n",
       "    model year  origin                      car name  power_to_weight_ratio  \n",
       "0           70       1     chevrolet chevelle malibu               0.037100  \n",
       "1           70       1             buick skylark 320               0.044679  \n",
       "2           70       1            plymouth satellite               0.043655  \n",
       "3           70       1                 amc rebel sst               0.043694  \n",
       "4           70       1                   ford torino               0.040591  \n",
       "14          70       3         toyota corona mark ii               0.040051  \n",
       "18          70       3                  datsun pl510               0.041315  \n",
       "19          70       2  volkswagen 1131 deluxe sedan               0.025068  \n",
       "20          70       2                   peugeot 504               0.032560  \n",
       "21          70       2                   audi 100 ls               0.037037  \n",
       "22          70       2                      saab 99e               0.040000  \n",
       "23          70       2                      bmw 2002               0.050582  \n",
       "29          71       3                  datsun pl510               0.041315  \n",
       "31          71       3                 toyota corona               0.042639  \n",
       "53          71       3           toyota corolla 1200               0.036661  "
      ]
     },
     "execution_count": 185,
     "metadata": {},
     "output_type": "execute_result"
    }
   ],
   "source": [
    "df_grouped.head()"
   ]
  },
  {
   "cell_type": "code",
   "execution_count": 189,
   "id": "eea98252",
   "metadata": {},
   "outputs": [],
   "source": [
    "df_grouped_mean=df.groupby(by=\"origin\")['mpg'].mean()"
   ]
  },
  {
   "cell_type": "code",
   "execution_count": 190,
   "id": "1e493298",
   "metadata": {},
   "outputs": [
    {
     "name": "stdout",
     "output_type": "stream",
     "text": [
      "origin\n",
      "1    20.083534\n",
      "2    27.891429\n",
      "3    30.450633\n",
      "Name: mpg, dtype: float64\n"
     ]
    }
   ],
   "source": [
    "print(df_grouped_mean)"
   ]
  },
  {
   "cell_type": "markdown",
   "id": "e1c1df89",
   "metadata": {},
   "source": [
    "#### 6. Sorting Sort the DataFrame by mpg in descending order and display the top 10 cars with the highest mpg."
   ]
  },
  {
   "cell_type": "code",
   "execution_count": 192,
   "id": "a776fe94",
   "metadata": {},
   "outputs": [],
   "source": [
    "df_mpg_sort=df.sort_values(by='mpg',ascending=False)"
   ]
  },
  {
   "cell_type": "code",
   "execution_count": 200,
   "id": "938d9077",
   "metadata": {},
   "outputs": [
    {
     "data": {
      "text/html": [
       "<div>\n",
       "<style scoped>\n",
       "    .dataframe tbody tr th:only-of-type {\n",
       "        vertical-align: middle;\n",
       "    }\n",
       "\n",
       "    .dataframe tbody tr th {\n",
       "        vertical-align: top;\n",
       "    }\n",
       "\n",
       "    .dataframe thead th {\n",
       "        text-align: right;\n",
       "    }\n",
       "</style>\n",
       "<table border=\"1\" class=\"dataframe\">\n",
       "  <thead>\n",
       "    <tr style=\"text-align: right;\">\n",
       "      <th></th>\n",
       "      <th>mpg</th>\n",
       "      <th>cylinders</th>\n",
       "      <th>displacement</th>\n",
       "      <th>horsepower</th>\n",
       "      <th>weight</th>\n",
       "      <th>acceleration</th>\n",
       "      <th>model year</th>\n",
       "      <th>origin</th>\n",
       "      <th>car name</th>\n",
       "      <th>power_to_weight_ratio</th>\n",
       "    </tr>\n",
       "  </thead>\n",
       "  <tbody>\n",
       "    <tr>\n",
       "      <th>322</th>\n",
       "      <td>46.6</td>\n",
       "      <td>4</td>\n",
       "      <td>86.0</td>\n",
       "      <td>65</td>\n",
       "      <td>2110</td>\n",
       "      <td>17.9</td>\n",
       "      <td>80</td>\n",
       "      <td>3</td>\n",
       "      <td>mazda glc</td>\n",
       "      <td>0.030806</td>\n",
       "    </tr>\n",
       "    <tr>\n",
       "      <th>329</th>\n",
       "      <td>44.6</td>\n",
       "      <td>4</td>\n",
       "      <td>91.0</td>\n",
       "      <td>67</td>\n",
       "      <td>1850</td>\n",
       "      <td>13.8</td>\n",
       "      <td>80</td>\n",
       "      <td>3</td>\n",
       "      <td>honda civic 1500 gl</td>\n",
       "      <td>0.036216</td>\n",
       "    </tr>\n",
       "    <tr>\n",
       "      <th>325</th>\n",
       "      <td>44.3</td>\n",
       "      <td>4</td>\n",
       "      <td>90.0</td>\n",
       "      <td>48</td>\n",
       "      <td>2085</td>\n",
       "      <td>21.7</td>\n",
       "      <td>80</td>\n",
       "      <td>2</td>\n",
       "      <td>vw rabbit c (diesel)</td>\n",
       "      <td>0.023022</td>\n",
       "    </tr>\n",
       "    <tr>\n",
       "      <th>394</th>\n",
       "      <td>44.0</td>\n",
       "      <td>4</td>\n",
       "      <td>97.0</td>\n",
       "      <td>52</td>\n",
       "      <td>2130</td>\n",
       "      <td>24.6</td>\n",
       "      <td>82</td>\n",
       "      <td>2</td>\n",
       "      <td>vw pickup</td>\n",
       "      <td>0.024413</td>\n",
       "    </tr>\n",
       "    <tr>\n",
       "      <th>326</th>\n",
       "      <td>43.4</td>\n",
       "      <td>4</td>\n",
       "      <td>90.0</td>\n",
       "      <td>48</td>\n",
       "      <td>2335</td>\n",
       "      <td>23.7</td>\n",
       "      <td>80</td>\n",
       "      <td>2</td>\n",
       "      <td>vw dasher (diesel)</td>\n",
       "      <td>0.020557</td>\n",
       "    </tr>\n",
       "    <tr>\n",
       "      <th>244</th>\n",
       "      <td>43.1</td>\n",
       "      <td>4</td>\n",
       "      <td>90.0</td>\n",
       "      <td>48</td>\n",
       "      <td>1985</td>\n",
       "      <td>21.5</td>\n",
       "      <td>78</td>\n",
       "      <td>2</td>\n",
       "      <td>volkswagen rabbit custom diesel</td>\n",
       "      <td>0.024181</td>\n",
       "    </tr>\n",
       "    <tr>\n",
       "      <th>309</th>\n",
       "      <td>41.5</td>\n",
       "      <td>4</td>\n",
       "      <td>98.0</td>\n",
       "      <td>76</td>\n",
       "      <td>2144</td>\n",
       "      <td>14.7</td>\n",
       "      <td>80</td>\n",
       "      <td>2</td>\n",
       "      <td>vw rabbit</td>\n",
       "      <td>0.035448</td>\n",
       "    </tr>\n",
       "    <tr>\n",
       "      <th>330</th>\n",
       "      <td>40.9</td>\n",
       "      <td>4</td>\n",
       "      <td>85.0</td>\n",
       "      <td>93</td>\n",
       "      <td>1835</td>\n",
       "      <td>17.3</td>\n",
       "      <td>80</td>\n",
       "      <td>2</td>\n",
       "      <td>renault lecar deluxe</td>\n",
       "      <td>0.050681</td>\n",
       "    </tr>\n",
       "    <tr>\n",
       "      <th>324</th>\n",
       "      <td>40.8</td>\n",
       "      <td>4</td>\n",
       "      <td>85.0</td>\n",
       "      <td>65</td>\n",
       "      <td>2110</td>\n",
       "      <td>19.2</td>\n",
       "      <td>80</td>\n",
       "      <td>3</td>\n",
       "      <td>datsun 210</td>\n",
       "      <td>0.030806</td>\n",
       "    </tr>\n",
       "    <tr>\n",
       "      <th>247</th>\n",
       "      <td>39.4</td>\n",
       "      <td>4</td>\n",
       "      <td>85.0</td>\n",
       "      <td>70</td>\n",
       "      <td>2070</td>\n",
       "      <td>18.6</td>\n",
       "      <td>78</td>\n",
       "      <td>3</td>\n",
       "      <td>datsun b210 gx</td>\n",
       "      <td>0.033816</td>\n",
       "    </tr>\n",
       "  </tbody>\n",
       "</table>\n",
       "</div>"
      ],
      "text/plain": [
       "      mpg  cylinders  displacement  horsepower  weight  acceleration  \\\n",
       "322  46.6          4          86.0          65    2110          17.9   \n",
       "329  44.6          4          91.0          67    1850          13.8   \n",
       "325  44.3          4          90.0          48    2085          21.7   \n",
       "394  44.0          4          97.0          52    2130          24.6   \n",
       "326  43.4          4          90.0          48    2335          23.7   \n",
       "244  43.1          4          90.0          48    1985          21.5   \n",
       "309  41.5          4          98.0          76    2144          14.7   \n",
       "330  40.9          4          85.0          93    1835          17.3   \n",
       "324  40.8          4          85.0          65    2110          19.2   \n",
       "247  39.4          4          85.0          70    2070          18.6   \n",
       "\n",
       "     model year  origin                         car name  \\\n",
       "322          80       3                        mazda glc   \n",
       "329          80       3              honda civic 1500 gl   \n",
       "325          80       2             vw rabbit c (diesel)   \n",
       "394          82       2                        vw pickup   \n",
       "326          80       2               vw dasher (diesel)   \n",
       "244          78       2  volkswagen rabbit custom diesel   \n",
       "309          80       2                        vw rabbit   \n",
       "330          80       2             renault lecar deluxe   \n",
       "324          80       3                       datsun 210   \n",
       "247          78       3                   datsun b210 gx   \n",
       "\n",
       "     power_to_weight_ratio  \n",
       "322               0.030806  \n",
       "329               0.036216  \n",
       "325               0.023022  \n",
       "394               0.024413  \n",
       "326               0.020557  \n",
       "244               0.024181  \n",
       "309               0.035448  \n",
       "330               0.050681  \n",
       "324               0.030806  \n",
       "247               0.033816  "
      ]
     },
     "execution_count": 200,
     "metadata": {},
     "output_type": "execute_result"
    }
   ],
   "source": [
    "df_mpg_sort.head(10)"
   ]
  },
  {
   "cell_type": "markdown",
   "id": "e6bc1359",
   "metadata": {},
   "source": [
    "#### 7. Apply this function to each row and store the result in the new column."
   ]
  },
  {
   "cell_type": "code",
   "execution_count": 204,
   "id": "6c6de25a",
   "metadata": {},
   "outputs": [],
   "source": [
    "def performance_score(row):\n",
    "    return row['mpg'] * row['acceleration'] / row['weight']"
   ]
  },
  {
   "cell_type": "code",
   "execution_count": 207,
   "id": "a540f325",
   "metadata": {},
   "outputs": [
    {
     "data": {
      "text/html": [
       "<div>\n",
       "<style scoped>\n",
       "    .dataframe tbody tr th:only-of-type {\n",
       "        vertical-align: middle;\n",
       "    }\n",
       "\n",
       "    .dataframe tbody tr th {\n",
       "        vertical-align: top;\n",
       "    }\n",
       "\n",
       "    .dataframe thead th {\n",
       "        text-align: right;\n",
       "    }\n",
       "</style>\n",
       "<table border=\"1\" class=\"dataframe\">\n",
       "  <thead>\n",
       "    <tr style=\"text-align: right;\">\n",
       "      <th></th>\n",
       "      <th>mpg</th>\n",
       "      <th>acceleration</th>\n",
       "      <th>weight</th>\n",
       "      <th>performance_score</th>\n",
       "    </tr>\n",
       "  </thead>\n",
       "  <tbody>\n",
       "    <tr>\n",
       "      <th>0</th>\n",
       "      <td>18.0</td>\n",
       "      <td>12.0</td>\n",
       "      <td>3504</td>\n",
       "      <td>0.061644</td>\n",
       "    </tr>\n",
       "    <tr>\n",
       "      <th>1</th>\n",
       "      <td>15.0</td>\n",
       "      <td>11.5</td>\n",
       "      <td>3693</td>\n",
       "      <td>0.046710</td>\n",
       "    </tr>\n",
       "    <tr>\n",
       "      <th>2</th>\n",
       "      <td>18.0</td>\n",
       "      <td>11.0</td>\n",
       "      <td>3436</td>\n",
       "      <td>0.057625</td>\n",
       "    </tr>\n",
       "    <tr>\n",
       "      <th>3</th>\n",
       "      <td>16.0</td>\n",
       "      <td>12.0</td>\n",
       "      <td>3433</td>\n",
       "      <td>0.055928</td>\n",
       "    </tr>\n",
       "    <tr>\n",
       "      <th>4</th>\n",
       "      <td>17.0</td>\n",
       "      <td>10.5</td>\n",
       "      <td>3449</td>\n",
       "      <td>0.051754</td>\n",
       "    </tr>\n",
       "  </tbody>\n",
       "</table>\n",
       "</div>"
      ],
      "text/plain": [
       "    mpg  acceleration  weight  performance_score\n",
       "0  18.0          12.0    3504           0.061644\n",
       "1  15.0          11.5    3693           0.046710\n",
       "2  18.0          11.0    3436           0.057625\n",
       "3  16.0          12.0    3433           0.055928\n",
       "4  17.0          10.5    3449           0.051754"
      ]
     },
     "execution_count": 207,
     "metadata": {},
     "output_type": "execute_result"
    }
   ],
   "source": [
    "df['performance_score']=df.apply(performance_score,axis=1)\n",
    "df[['mpg','acceleration','weight','performance_score']].head()"
   ]
  },
  {
   "cell_type": "code",
   "execution_count": 208,
   "id": "dccd5247",
   "metadata": {},
   "outputs": [
    {
     "data": {
      "text/html": [
       "<div>\n",
       "<style scoped>\n",
       "    .dataframe tbody tr th:only-of-type {\n",
       "        vertical-align: middle;\n",
       "    }\n",
       "\n",
       "    .dataframe tbody tr th {\n",
       "        vertical-align: top;\n",
       "    }\n",
       "\n",
       "    .dataframe thead th {\n",
       "        text-align: right;\n",
       "    }\n",
       "</style>\n",
       "<table border=\"1\" class=\"dataframe\">\n",
       "  <thead>\n",
       "    <tr style=\"text-align: right;\">\n",
       "      <th></th>\n",
       "      <th>mpg</th>\n",
       "      <th>cylinders</th>\n",
       "      <th>displacement</th>\n",
       "      <th>horsepower</th>\n",
       "      <th>weight</th>\n",
       "      <th>acceleration</th>\n",
       "      <th>model year</th>\n",
       "      <th>origin</th>\n",
       "      <th>car name</th>\n",
       "      <th>power_to_weight_ratio</th>\n",
       "      <th>performance_score</th>\n",
       "    </tr>\n",
       "  </thead>\n",
       "  <tbody>\n",
       "    <tr>\n",
       "      <th>0</th>\n",
       "      <td>18.0</td>\n",
       "      <td>8</td>\n",
       "      <td>307.0</td>\n",
       "      <td>130</td>\n",
       "      <td>3504</td>\n",
       "      <td>12.0</td>\n",
       "      <td>70</td>\n",
       "      <td>1</td>\n",
       "      <td>chevrolet chevelle malibu</td>\n",
       "      <td>0.037100</td>\n",
       "      <td>0.061644</td>\n",
       "    </tr>\n",
       "    <tr>\n",
       "      <th>1</th>\n",
       "      <td>15.0</td>\n",
       "      <td>8</td>\n",
       "      <td>350.0</td>\n",
       "      <td>165</td>\n",
       "      <td>3693</td>\n",
       "      <td>11.5</td>\n",
       "      <td>70</td>\n",
       "      <td>1</td>\n",
       "      <td>buick skylark 320</td>\n",
       "      <td>0.044679</td>\n",
       "      <td>0.046710</td>\n",
       "    </tr>\n",
       "    <tr>\n",
       "      <th>2</th>\n",
       "      <td>18.0</td>\n",
       "      <td>8</td>\n",
       "      <td>318.0</td>\n",
       "      <td>150</td>\n",
       "      <td>3436</td>\n",
       "      <td>11.0</td>\n",
       "      <td>70</td>\n",
       "      <td>1</td>\n",
       "      <td>plymouth satellite</td>\n",
       "      <td>0.043655</td>\n",
       "      <td>0.057625</td>\n",
       "    </tr>\n",
       "    <tr>\n",
       "      <th>3</th>\n",
       "      <td>16.0</td>\n",
       "      <td>8</td>\n",
       "      <td>304.0</td>\n",
       "      <td>150</td>\n",
       "      <td>3433</td>\n",
       "      <td>12.0</td>\n",
       "      <td>70</td>\n",
       "      <td>1</td>\n",
       "      <td>amc rebel sst</td>\n",
       "      <td>0.043694</td>\n",
       "      <td>0.055928</td>\n",
       "    </tr>\n",
       "    <tr>\n",
       "      <th>4</th>\n",
       "      <td>17.0</td>\n",
       "      <td>8</td>\n",
       "      <td>302.0</td>\n",
       "      <td>140</td>\n",
       "      <td>3449</td>\n",
       "      <td>10.5</td>\n",
       "      <td>70</td>\n",
       "      <td>1</td>\n",
       "      <td>ford torino</td>\n",
       "      <td>0.040591</td>\n",
       "      <td>0.051754</td>\n",
       "    </tr>\n",
       "  </tbody>\n",
       "</table>\n",
       "</div>"
      ],
      "text/plain": [
       "    mpg  cylinders  displacement  horsepower  weight  acceleration  \\\n",
       "0  18.0          8         307.0         130    3504          12.0   \n",
       "1  15.0          8         350.0         165    3693          11.5   \n",
       "2  18.0          8         318.0         150    3436          11.0   \n",
       "3  16.0          8         304.0         150    3433          12.0   \n",
       "4  17.0          8         302.0         140    3449          10.5   \n",
       "\n",
       "   model year  origin                   car name  power_to_weight_ratio  \\\n",
       "0          70       1  chevrolet chevelle malibu               0.037100   \n",
       "1          70       1          buick skylark 320               0.044679   \n",
       "2          70       1         plymouth satellite               0.043655   \n",
       "3          70       1              amc rebel sst               0.043694   \n",
       "4          70       1                ford torino               0.040591   \n",
       "\n",
       "   performance_score  \n",
       "0           0.061644  \n",
       "1           0.046710  \n",
       "2           0.057625  \n",
       "3           0.055928  \n",
       "4           0.051754  "
      ]
     },
     "execution_count": 208,
     "metadata": {},
     "output_type": "execute_result"
    }
   ],
   "source": [
    "df.head()"
   ]
  },
  {
   "cell_type": "markdown",
   "id": "2dbed84f",
   "metadata": {},
   "source": [
    "#### 8. Visualization Preparation Generate a summary DataFrame with:\n",
    "○ Average mpg, weight, and horsepower for each model_year."
   ]
  },
  {
   "cell_type": "code",
   "execution_count": 211,
   "id": "5f9398e9",
   "metadata": {},
   "outputs": [
    {
     "data": {
      "text/html": [
       "<div>\n",
       "<style scoped>\n",
       "    .dataframe tbody tr th:only-of-type {\n",
       "        vertical-align: middle;\n",
       "    }\n",
       "\n",
       "    .dataframe tbody tr th {\n",
       "        vertical-align: top;\n",
       "    }\n",
       "\n",
       "    .dataframe thead th {\n",
       "        text-align: right;\n",
       "    }\n",
       "</style>\n",
       "<table border=\"1\" class=\"dataframe\">\n",
       "  <thead>\n",
       "    <tr style=\"text-align: right;\">\n",
       "      <th></th>\n",
       "      <th>mpg</th>\n",
       "      <th>weight</th>\n",
       "      <th>horsepower</th>\n",
       "    </tr>\n",
       "    <tr>\n",
       "      <th>model year</th>\n",
       "      <th></th>\n",
       "      <th></th>\n",
       "      <th></th>\n",
       "    </tr>\n",
       "  </thead>\n",
       "  <tbody>\n",
       "    <tr>\n",
       "      <th>70</th>\n",
       "      <td>17.689655</td>\n",
       "      <td>3372.793103</td>\n",
       "      <td>147.827586</td>\n",
       "    </tr>\n",
       "    <tr>\n",
       "      <th>71</th>\n",
       "      <td>21.250000</td>\n",
       "      <td>2995.428571</td>\n",
       "      <td>106.535714</td>\n",
       "    </tr>\n",
       "    <tr>\n",
       "      <th>72</th>\n",
       "      <td>18.714286</td>\n",
       "      <td>3237.714286</td>\n",
       "      <td>120.178571</td>\n",
       "    </tr>\n",
       "    <tr>\n",
       "      <th>73</th>\n",
       "      <td>17.100000</td>\n",
       "      <td>3419.025000</td>\n",
       "      <td>130.475000</td>\n",
       "    </tr>\n",
       "    <tr>\n",
       "      <th>74</th>\n",
       "      <td>22.703704</td>\n",
       "      <td>2877.925926</td>\n",
       "      <td>94.185185</td>\n",
       "    </tr>\n",
       "    <tr>\n",
       "      <th>75</th>\n",
       "      <td>20.266667</td>\n",
       "      <td>3176.800000</td>\n",
       "      <td>101.066667</td>\n",
       "    </tr>\n",
       "    <tr>\n",
       "      <th>76</th>\n",
       "      <td>21.573529</td>\n",
       "      <td>3078.735294</td>\n",
       "      <td>101.117647</td>\n",
       "    </tr>\n",
       "    <tr>\n",
       "      <th>77</th>\n",
       "      <td>23.375000</td>\n",
       "      <td>2997.357143</td>\n",
       "      <td>105.071429</td>\n",
       "    </tr>\n",
       "    <tr>\n",
       "      <th>78</th>\n",
       "      <td>24.061111</td>\n",
       "      <td>2861.805556</td>\n",
       "      <td>99.694444</td>\n",
       "    </tr>\n",
       "    <tr>\n",
       "      <th>79</th>\n",
       "      <td>25.093103</td>\n",
       "      <td>3055.344828</td>\n",
       "      <td>101.206897</td>\n",
       "    </tr>\n",
       "    <tr>\n",
       "      <th>80</th>\n",
       "      <td>33.696552</td>\n",
       "      <td>2436.655172</td>\n",
       "      <td>78.551724</td>\n",
       "    </tr>\n",
       "    <tr>\n",
       "      <th>81</th>\n",
       "      <td>30.334483</td>\n",
       "      <td>2522.931034</td>\n",
       "      <td>81.448276</td>\n",
       "    </tr>\n",
       "    <tr>\n",
       "      <th>82</th>\n",
       "      <td>31.709677</td>\n",
       "      <td>2453.548387</td>\n",
       "      <td>81.838710</td>\n",
       "    </tr>\n",
       "  </tbody>\n",
       "</table>\n",
       "</div>"
      ],
      "text/plain": [
       "                  mpg       weight  horsepower\n",
       "model year                                    \n",
       "70          17.689655  3372.793103  147.827586\n",
       "71          21.250000  2995.428571  106.535714\n",
       "72          18.714286  3237.714286  120.178571\n",
       "73          17.100000  3419.025000  130.475000\n",
       "74          22.703704  2877.925926   94.185185\n",
       "75          20.266667  3176.800000  101.066667\n",
       "76          21.573529  3078.735294  101.117647\n",
       "77          23.375000  2997.357143  105.071429\n",
       "78          24.061111  2861.805556   99.694444\n",
       "79          25.093103  3055.344828  101.206897\n",
       "80          33.696552  2436.655172   78.551724\n",
       "81          30.334483  2522.931034   81.448276\n",
       "82          31.709677  2453.548387   81.838710"
      ]
     },
     "execution_count": 211,
     "metadata": {},
     "output_type": "execute_result"
    }
   ],
   "source": [
    "df_summary_mpg_weight_horsepower=df.groupby(\"model year\")[[\"mpg\", \"weight\", \"horsepower\"]].mean()\n",
    "df_summary_mpg_weight_horsepower"
   ]
  },
  {
   "cell_type": "markdown",
   "id": "49f04e83",
   "metadata": {},
   "source": [
    "#### 9. Exporting Data Save a subset of the data containing only mpg, cylinders, horsepower, and weight for cars with mpg > 30 into a CSV fi le named high_mpg_cars.csv."
   ]
  },
  {
   "cell_type": "code",
   "execution_count": 214,
   "id": "d29af1d6",
   "metadata": {},
   "outputs": [
    {
     "data": {
      "text/html": [
       "<div>\n",
       "<style scoped>\n",
       "    .dataframe tbody tr th:only-of-type {\n",
       "        vertical-align: middle;\n",
       "    }\n",
       "\n",
       "    .dataframe tbody tr th {\n",
       "        vertical-align: top;\n",
       "    }\n",
       "\n",
       "    .dataframe thead th {\n",
       "        text-align: right;\n",
       "    }\n",
       "</style>\n",
       "<table border=\"1\" class=\"dataframe\">\n",
       "  <thead>\n",
       "    <tr style=\"text-align: right;\">\n",
       "      <th></th>\n",
       "      <th>mpg</th>\n",
       "      <th>cylinders</th>\n",
       "      <th>horsepower</th>\n",
       "    </tr>\n",
       "  </thead>\n",
       "  <tbody>\n",
       "    <tr>\n",
       "      <th>53</th>\n",
       "      <td>31.0</td>\n",
       "      <td>4</td>\n",
       "      <td>65</td>\n",
       "    </tr>\n",
       "    <tr>\n",
       "      <th>54</th>\n",
       "      <td>35.0</td>\n",
       "      <td>4</td>\n",
       "      <td>69</td>\n",
       "    </tr>\n",
       "    <tr>\n",
       "      <th>129</th>\n",
       "      <td>31.0</td>\n",
       "      <td>4</td>\n",
       "      <td>67</td>\n",
       "    </tr>\n",
       "    <tr>\n",
       "      <th>131</th>\n",
       "      <td>32.0</td>\n",
       "      <td>4</td>\n",
       "      <td>65</td>\n",
       "    </tr>\n",
       "    <tr>\n",
       "      <th>144</th>\n",
       "      <td>31.0</td>\n",
       "      <td>4</td>\n",
       "      <td>52</td>\n",
       "    </tr>\n",
       "    <tr>\n",
       "      <th>...</th>\n",
       "      <td>...</td>\n",
       "      <td>...</td>\n",
       "      <td>...</td>\n",
       "    </tr>\n",
       "    <tr>\n",
       "      <th>390</th>\n",
       "      <td>32.0</td>\n",
       "      <td>4</td>\n",
       "      <td>96</td>\n",
       "    </tr>\n",
       "    <tr>\n",
       "      <th>391</th>\n",
       "      <td>36.0</td>\n",
       "      <td>4</td>\n",
       "      <td>84</td>\n",
       "    </tr>\n",
       "    <tr>\n",
       "      <th>394</th>\n",
       "      <td>44.0</td>\n",
       "      <td>4</td>\n",
       "      <td>52</td>\n",
       "    </tr>\n",
       "    <tr>\n",
       "      <th>395</th>\n",
       "      <td>32.0</td>\n",
       "      <td>4</td>\n",
       "      <td>84</td>\n",
       "    </tr>\n",
       "    <tr>\n",
       "      <th>397</th>\n",
       "      <td>31.0</td>\n",
       "      <td>4</td>\n",
       "      <td>82</td>\n",
       "    </tr>\n",
       "  </tbody>\n",
       "</table>\n",
       "<p>85 rows × 3 columns</p>\n",
       "</div>"
      ],
      "text/plain": [
       "      mpg  cylinders  horsepower\n",
       "53   31.0          4          65\n",
       "54   35.0          4          69\n",
       "129  31.0          4          67\n",
       "131  32.0          4          65\n",
       "144  31.0          4          52\n",
       "..    ...        ...         ...\n",
       "390  32.0          4          96\n",
       "391  36.0          4          84\n",
       "394  44.0          4          52\n",
       "395  32.0          4          84\n",
       "397  31.0          4          82\n",
       "\n",
       "[85 rows x 3 columns]"
      ]
     },
     "execution_count": 214,
     "metadata": {},
     "output_type": "execute_result"
    }
   ],
   "source": [
    "df_updated_dataset = df[df[\"mpg\"] > 30][[\"mpg\", \"cylinders\", \"horsepower\"]]\n",
    "df_updated_dataset"
   ]
  },
  {
   "cell_type": "code",
   "execution_count": 216,
   "id": "58d339d0",
   "metadata": {},
   "outputs": [],
   "source": [
    "new_df = df[df[\"mpg\"] > 30][[\"mpg\", \"cylinders\", \"horsepower\",\"weight\"]]\n",
    "new_df.to_csv(\"new_df.csv\")"
   ]
  },
  {
   "cell_type": "markdown",
   "id": "2421ca1f",
   "metadata": {},
   "source": [
    "#### 10. Finding Anomalies Identify potential outliers in the mpg column using the Interquartile Range (IQR) method. Specifi cally:\n",
    "● Calculate the IQR for mpg.\n",
    "● Defi ne outliers as values less than Q1 - 1.5 * IQR or greater than Q3 + 1.5 * IQR.\n",
    "● Create a DataFrame of cars classifi ed as outliers, displaying car_name, mpg, and model_year.\n",
    "4"
   ]
  },
  {
   "cell_type": "code",
   "execution_count": 217,
   "id": "64ca923d",
   "metadata": {},
   "outputs": [],
   "source": [
    "Q1=df['mpg'].quantile(0.25)\n",
    "Q3=df['mpg'].quantile(0.75)\n",
    "IQR = Q3-Q1\n",
    "\n",
    "lower_bound=Q1 - 1.5 * IQR\n",
    "upper_bound=Q3 + 1.5 * IQR\n",
    "\n"
   ]
  },
  {
   "cell_type": "code",
   "execution_count": 218,
   "id": "21ebb79e",
   "metadata": {},
   "outputs": [
    {
     "name": "stdout",
     "output_type": "stream",
     "text": [
      "0.25\n",
      "46.25\n"
     ]
    }
   ],
   "source": [
    "print(lower_bound)\n",
    "print(upper_bound)"
   ]
  },
  {
   "cell_type": "code",
   "execution_count": 225,
   "id": "a8f66b21",
   "metadata": {},
   "outputs": [],
   "source": [
    "outliers = df[(df[\"mpg\"]<lower_bound) | (df[\"mpg\"]>upper_bound)]\n",
    "outliers_df = outliers[['car name','mpg','model year']]"
   ]
  },
  {
   "cell_type": "code",
   "execution_count": 226,
   "id": "80a0d54a",
   "metadata": {},
   "outputs": [
    {
     "name": "stdout",
     "output_type": "stream",
     "text": [
      "Outlier car is :\n"
     ]
    },
    {
     "data": {
      "text/html": [
       "<div>\n",
       "<style scoped>\n",
       "    .dataframe tbody tr th:only-of-type {\n",
       "        vertical-align: middle;\n",
       "    }\n",
       "\n",
       "    .dataframe tbody tr th {\n",
       "        vertical-align: top;\n",
       "    }\n",
       "\n",
       "    .dataframe thead th {\n",
       "        text-align: right;\n",
       "    }\n",
       "</style>\n",
       "<table border=\"1\" class=\"dataframe\">\n",
       "  <thead>\n",
       "    <tr style=\"text-align: right;\">\n",
       "      <th></th>\n",
       "      <th>car name</th>\n",
       "      <th>mpg</th>\n",
       "      <th>model year</th>\n",
       "    </tr>\n",
       "  </thead>\n",
       "  <tbody>\n",
       "    <tr>\n",
       "      <th>322</th>\n",
       "      <td>mazda glc</td>\n",
       "      <td>46.6</td>\n",
       "      <td>80</td>\n",
       "    </tr>\n",
       "  </tbody>\n",
       "</table>\n",
       "</div>"
      ],
      "text/plain": [
       "      car name   mpg  model year\n",
       "322  mazda glc  46.6          80"
      ]
     },
     "execution_count": 226,
     "metadata": {},
     "output_type": "execute_result"
    }
   ],
   "source": [
    "print(\"Outlier car is :\")\n",
    "outliers_df"
   ]
  },
  {
   "cell_type": "code",
   "execution_count": null,
   "id": "4675475e",
   "metadata": {},
   "outputs": [],
   "source": []
  }
 ],
 "metadata": {
  "kernelspec": {
   "display_name": "Python 3 (ipykernel)",
   "language": "python",
   "name": "python3"
  },
  "language_info": {
   "codemirror_mode": {
    "name": "ipython",
    "version": 3
   },
   "file_extension": ".py",
   "mimetype": "text/x-python",
   "name": "python",
   "nbconvert_exporter": "python",
   "pygments_lexer": "ipython3",
   "version": "3.9.12"
  }
 },
 "nbformat": 4,
 "nbformat_minor": 5
}
